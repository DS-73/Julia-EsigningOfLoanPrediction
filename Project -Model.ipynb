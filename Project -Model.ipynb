{
 "cells": [
  {
   "cell_type": "markdown",
   "metadata": {},
   "source": [
    "# Importing Libraries"
   ]
  },
  {
   "cell_type": "code",
   "execution_count": 1,
   "metadata": {},
   "outputs": [],
   "source": [
    "using Pkg"
   ]
  },
  {
   "cell_type": "code",
   "execution_count": null,
   "metadata": {},
   "outputs": [],
   "source": []
  },
  {
   "cell_type": "code",
   "execution_count": 2,
   "metadata": {},
   "outputs": [
    {
     "name": "stderr",
     "output_type": "stream",
     "text": [
      "\u001b[32m\u001b[1m   Updating\u001b[22m\u001b[39m registry at `C:\\Users\\DS\\.julia\\registries\\General`\n",
      "\u001b[32m\u001b[1m  Resolving\u001b[22m\u001b[39m package versions...\n",
      "\u001b[32m\u001b[1mNo Changes\u001b[22m\u001b[39m to `C:\\Users\\DS\\.julia\\environments\\v1.5\\Project.toml`\n",
      "\u001b[32m\u001b[1mNo Changes\u001b[22m\u001b[39m to `C:\\Users\\DS\\.julia\\environments\\v1.5\\Manifest.toml`\n",
      "\u001b[32m\u001b[1m  Resolving\u001b[22m\u001b[39m package versions...\n",
      "\u001b[32m\u001b[1mNo Changes\u001b[22m\u001b[39m to `C:\\Users\\DS\\.julia\\environments\\v1.5\\Project.toml`\n",
      "\u001b[32m\u001b[1mNo Changes\u001b[22m\u001b[39m to `C:\\Users\\DS\\.julia\\environments\\v1.5\\Manifest.toml`\n",
      "\u001b[32m\u001b[1m  Resolving\u001b[22m\u001b[39m package versions...\n",
      "\u001b[32m\u001b[1mNo Changes\u001b[22m\u001b[39m to `C:\\Users\\DS\\.julia\\environments\\v1.5\\Project.toml`\n",
      "\u001b[32m\u001b[1mNo Changes\u001b[22m\u001b[39m to `C:\\Users\\DS\\.julia\\environments\\v1.5\\Manifest.toml`\n",
      "\u001b[32m\u001b[1m  Resolving\u001b[22m\u001b[39m package versions...\n",
      "\u001b[32m\u001b[1mNo Changes\u001b[22m\u001b[39m to `C:\\Users\\DS\\.julia\\environments\\v1.5\\Project.toml`\n",
      "\u001b[32m\u001b[1mNo Changes\u001b[22m\u001b[39m to `C:\\Users\\DS\\.julia\\environments\\v1.5\\Manifest.toml`\n",
      "\u001b[32m\u001b[1m  Resolving\u001b[22m\u001b[39m package versions...\n",
      "\u001b[32m\u001b[1mNo Changes\u001b[22m\u001b[39m to `C:\\Users\\DS\\.julia\\environments\\v1.5\\Project.toml`\n",
      "\u001b[32m\u001b[1mNo Changes\u001b[22m\u001b[39m to `C:\\Users\\DS\\.julia\\environments\\v1.5\\Manifest.toml`\n",
      "\u001b[32m\u001b[1m  Resolving\u001b[22m\u001b[39m package versions...\n",
      "\u001b[32m\u001b[1mNo Changes\u001b[22m\u001b[39m to `C:\\Users\\DS\\.julia\\environments\\v1.5\\Project.toml`\n",
      "\u001b[32m\u001b[1mNo Changes\u001b[22m\u001b[39m to `C:\\Users\\DS\\.julia\\environments\\v1.5\\Manifest.toml`\n",
      "\u001b[32m\u001b[1m  Resolving\u001b[22m\u001b[39m package versions...\n",
      "\u001b[32m\u001b[1mNo Changes\u001b[22m\u001b[39m to `C:\\Users\\DS\\.julia\\environments\\v1.5\\Project.toml`\n",
      "\u001b[32m\u001b[1mNo Changes\u001b[22m\u001b[39m to `C:\\Users\\DS\\.julia\\environments\\v1.5\\Manifest.toml`\n",
      "\u001b[32m\u001b[1m  Resolving\u001b[22m\u001b[39m package versions...\n",
      "\u001b[32m\u001b[1mNo Changes\u001b[22m\u001b[39m to `C:\\Users\\DS\\.julia\\environments\\v1.5\\Project.toml`\n",
      "\u001b[32m\u001b[1mNo Changes\u001b[22m\u001b[39m to `C:\\Users\\DS\\.julia\\environments\\v1.5\\Manifest.toml`\n",
      "\u001b[32m\u001b[1m  Resolving\u001b[22m\u001b[39m package versions...\n",
      "\u001b[32m\u001b[1mNo Changes\u001b[22m\u001b[39m to `C:\\Users\\DS\\.julia\\environments\\v1.5\\Project.toml`\n",
      "\u001b[32m\u001b[1mNo Changes\u001b[22m\u001b[39m to `C:\\Users\\DS\\.julia\\environments\\v1.5\\Manifest.toml`\n",
      "\u001b[32m\u001b[1m  Resolving\u001b[22m\u001b[39m package versions...\n",
      "\u001b[32m\u001b[1mNo Changes\u001b[22m\u001b[39m to `C:\\Users\\DS\\.julia\\environments\\v1.5\\Project.toml`\n",
      "\u001b[32m\u001b[1mNo Changes\u001b[22m\u001b[39m to `C:\\Users\\DS\\.julia\\environments\\v1.5\\Manifest.toml`\n",
      "\u001b[32m\u001b[1m  Resolving\u001b[22m\u001b[39m package versions...\n",
      "\u001b[32m\u001b[1mNo Changes\u001b[22m\u001b[39m to `C:\\Users\\DS\\.julia\\environments\\v1.5\\Project.toml`\n",
      "\u001b[32m\u001b[1mNo Changes\u001b[22m\u001b[39m to `C:\\Users\\DS\\.julia\\environments\\v1.5\\Manifest.toml`\n",
      "\u001b[32m\u001b[1m  Resolving\u001b[22m\u001b[39m package versions...\n",
      "\u001b[32m\u001b[1mNo Changes\u001b[22m\u001b[39m to `C:\\Users\\DS\\.julia\\environments\\v1.5\\Project.toml`\n",
      "\u001b[32m\u001b[1mNo Changes\u001b[22m\u001b[39m to `C:\\Users\\DS\\.julia\\environments\\v1.5\\Manifest.toml`\n"
     ]
    }
   ],
   "source": [
    "Pkg.add(\"DataFrames\")\n",
    "Pkg.add(\"CSV\")\n",
    "Pkg.add(\"Plots\")\n",
    "Pkg.add(\"GLM\")\n",
    "Pkg.add(\"MLBase\")\n",
    "Pkg.add(\"StatsBase\")\n",
    "Pkg.add(\"Lathe\")\n",
    "Pkg.add(\"ClassImbalance\")\n",
    "Pkg.add(\"ROCAnalysis\")\n",
    "Pkg.add(\"StatsPlots\")\n",
    "Pkg.add(\"StatsPlots\")\n",
    "Pkg.add(\"LIBSVM\")"
   ]
  },
  {
   "cell_type": "code",
   "execution_count": null,
   "metadata": {},
   "outputs": [],
   "source": []
  },
  {
   "cell_type": "code",
   "execution_count": 3,
   "metadata": {},
   "outputs": [],
   "source": [
    "using DataFrames\n",
    "using CSV\n",
    "using Plots\n",
    "using GLM\n",
    "using MLBase\n",
    "using StatsBase\n",
    "using Lathe\n",
    "using ClassImbalance\n",
    "using ROCAnalysis\n",
    "using StatsPlots\n",
    "using Statistics\n",
    "using Lathe.preprocess: TrainTestSplit\n"
   ]
  },
  {
   "cell_type": "code",
   "execution_count": null,
   "metadata": {},
   "outputs": [],
   "source": []
  },
  {
   "cell_type": "code",
   "execution_count": 4,
   "metadata": {},
   "outputs": [
    {
     "data": {
      "text/plain": [
       "1000"
      ]
     },
     "execution_count": 4,
     "metadata": {},
     "output_type": "execute_result"
    }
   ],
   "source": [
    "# Enable Printing of 1000 columns\n",
    "ENV[\"COLUMNS\"] = 1000"
   ]
  },
  {
   "cell_type": "code",
   "execution_count": null,
   "metadata": {},
   "outputs": [],
   "source": []
  },
  {
   "cell_type": "code",
   "execution_count": 5,
   "metadata": {},
   "outputs": [
    {
     "data": {
      "text/html": [
       "<table class=\"data-frame\"><thead><tr><th></th><th>entry_id</th><th>age</th><th>pay_schedule</th><th>home_owner</th><th>income</th><th>months_employed</th><th>years_employed</th><th>current_address_year</th><th>personal_account_m</th><th>personal_account_y</th><th>has_debt</th><th>amount_requested</th><th>risk_score</th><th>risk_score_2</th><th>risk_score_3</th><th>risk_score_4</th><th>risk_score_5</th><th>ext_quality_score</th><th>ext_quality_score_2</th><th>inquiries_last_month</th><th>e_signed</th></tr><tr><th></th><th>Int64</th><th>Int64</th><th>String</th><th>Int64</th><th>Int64</th><th>Int64</th><th>Int64</th><th>Int64</th><th>Int64</th><th>Int64</th><th>Int64</th><th>Int64</th><th>Int64</th><th>Float64</th><th>Float64</th><th>Float64</th><th>Float64</th><th>Float64</th><th>Float64</th><th>Int64</th><th>Int64</th></tr></thead><tbody><p>5 rows × 21 columns</p><tr><th>1</th><td>7629673</td><td>40</td><td>bi-weekly</td><td>1</td><td>3135</td><td>0</td><td>3</td><td>3</td><td>6</td><td>2</td><td>1</td><td>550</td><td>36200</td><td>0.737398</td><td>0.903517</td><td>0.487712</td><td>0.515977</td><td>0.580918</td><td>0.380918</td><td>10</td><td>1</td></tr><tr><th>2</th><td>3560428</td><td>61</td><td>weekly</td><td>0</td><td>3180</td><td>0</td><td>6</td><td>3</td><td>2</td><td>7</td><td>1</td><td>600</td><td>30150</td><td>0.73851</td><td>0.881027</td><td>0.713423</td><td>0.826402</td><td>0.73072</td><td>0.63072</td><td>9</td><td>0</td></tr><tr><th>3</th><td>6934997</td><td>23</td><td>weekly</td><td>0</td><td>1540</td><td>6</td><td>0</td><td>0</td><td>7</td><td>1</td><td>1</td><td>450</td><td>34550</td><td>0.642993</td><td>0.766554</td><td>0.595018</td><td>0.762284</td><td>0.531712</td><td>0.531712</td><td>7</td><td>0</td></tr><tr><th>4</th><td>5682812</td><td>40</td><td>bi-weekly</td><td>0</td><td>5230</td><td>0</td><td>6</td><td>1</td><td>2</td><td>7</td><td>1</td><td>700</td><td>42150</td><td>0.665224</td><td>0.960832</td><td>0.767828</td><td>0.778831</td><td>0.792552</td><td>0.592552</td><td>8</td><td>1</td></tr><tr><th>5</th><td>5335819</td><td>33</td><td>semi-monthly</td><td>0</td><td>3590</td><td>0</td><td>5</td><td>2</td><td>2</td><td>8</td><td>1</td><td>1100</td><td>53850</td><td>0.617361</td><td>0.85756</td><td>0.613487</td><td>0.665523</td><td>0.744634</td><td>0.744634</td><td>12</td><td>0</td></tr></tbody></table>"
      ],
      "text/latex": [
       "\\begin{tabular}{r|ccccccccccccccccccccc}\n",
       "\t& entry\\_id & age & pay\\_schedule & home\\_owner & income & months\\_employed & years\\_employed & current\\_address\\_year & personal\\_account\\_m & personal\\_account\\_y & has\\_debt & amount\\_requested & risk\\_score & risk\\_score\\_2 & risk\\_score\\_3 & risk\\_score\\_4 & risk\\_score\\_5 & ext\\_quality\\_score & ext\\_quality\\_score\\_2 & inquiries\\_last\\_month & e\\_signed\\\\\n",
       "\t\\hline\n",
       "\t& Int64 & Int64 & String & Int64 & Int64 & Int64 & Int64 & Int64 & Int64 & Int64 & Int64 & Int64 & Int64 & Float64 & Float64 & Float64 & Float64 & Float64 & Float64 & Int64 & Int64\\\\\n",
       "\t\\hline\n",
       "\t1 & 7629673 & 40 & bi-weekly & 1 & 3135 & 0 & 3 & 3 & 6 & 2 & 1 & 550 & 36200 & 0.737398 & 0.903517 & 0.487712 & 0.515977 & 0.580918 & 0.380918 & 10 & 1 \\\\\n",
       "\t2 & 3560428 & 61 & weekly & 0 & 3180 & 0 & 6 & 3 & 2 & 7 & 1 & 600 & 30150 & 0.73851 & 0.881027 & 0.713423 & 0.826402 & 0.73072 & 0.63072 & 9 & 0 \\\\\n",
       "\t3 & 6934997 & 23 & weekly & 0 & 1540 & 6 & 0 & 0 & 7 & 1 & 1 & 450 & 34550 & 0.642993 & 0.766554 & 0.595018 & 0.762284 & 0.531712 & 0.531712 & 7 & 0 \\\\\n",
       "\t4 & 5682812 & 40 & bi-weekly & 0 & 5230 & 0 & 6 & 1 & 2 & 7 & 1 & 700 & 42150 & 0.665224 & 0.960832 & 0.767828 & 0.778831 & 0.792552 & 0.592552 & 8 & 1 \\\\\n",
       "\t5 & 5335819 & 33 & semi-monthly & 0 & 3590 & 0 & 5 & 2 & 2 & 8 & 1 & 1100 & 53850 & 0.617361 & 0.85756 & 0.613487 & 0.665523 & 0.744634 & 0.744634 & 12 & 0 \\\\\n",
       "\\end{tabular}\n"
      ],
      "text/plain": [
       "5×21 DataFrame\n",
       "│ Row │ entry_id │ age   │ pay_schedule │ home_owner │ income │ months_employed │ years_employed │ current_address_year │ personal_account_m │ personal_account_y │ has_debt │ amount_requested │ risk_score │ risk_score_2 │ risk_score_3 │ risk_score_4 │ risk_score_5 │ ext_quality_score │ ext_quality_score_2 │ inquiries_last_month │ e_signed │\n",
       "│     │ \u001b[90mInt64\u001b[39m    │ \u001b[90mInt64\u001b[39m │ \u001b[90mString\u001b[39m       │ \u001b[90mInt64\u001b[39m      │ \u001b[90mInt64\u001b[39m  │ \u001b[90mInt64\u001b[39m           │ \u001b[90mInt64\u001b[39m          │ \u001b[90mInt64\u001b[39m                │ \u001b[90mInt64\u001b[39m              │ \u001b[90mInt64\u001b[39m              │ \u001b[90mInt64\u001b[39m    │ \u001b[90mInt64\u001b[39m            │ \u001b[90mInt64\u001b[39m      │ \u001b[90mFloat64\u001b[39m      │ \u001b[90mFloat64\u001b[39m      │ \u001b[90mFloat64\u001b[39m      │ \u001b[90mFloat64\u001b[39m      │ \u001b[90mFloat64\u001b[39m           │ \u001b[90mFloat64\u001b[39m             │ \u001b[90mInt64\u001b[39m                │ \u001b[90mInt64\u001b[39m    │\n",
       "├─────┼──────────┼───────┼──────────────┼────────────┼────────┼─────────────────┼────────────────┼──────────────────────┼────────────────────┼────────────────────┼──────────┼──────────────────┼────────────┼──────────────┼──────────────┼──────────────┼──────────────┼───────────────────┼─────────────────────┼──────────────────────┼──────────┤\n",
       "│ 1   │ 7629673  │ 40    │ bi-weekly    │ 1          │ 3135   │ 0               │ 3              │ 3                    │ 6                  │ 2                  │ 1        │ 550              │ 36200      │ 0.737398     │ 0.903517     │ 0.487712     │ 0.515977     │ 0.580918          │ 0.380918            │ 10                   │ 1        │\n",
       "│ 2   │ 3560428  │ 61    │ weekly       │ 0          │ 3180   │ 0               │ 6              │ 3                    │ 2                  │ 7                  │ 1        │ 600              │ 30150      │ 0.73851      │ 0.881027     │ 0.713423     │ 0.826402     │ 0.73072           │ 0.63072             │ 9                    │ 0        │\n",
       "│ 3   │ 6934997  │ 23    │ weekly       │ 0          │ 1540   │ 6               │ 0              │ 0                    │ 7                  │ 1                  │ 1        │ 450              │ 34550      │ 0.642993     │ 0.766554     │ 0.595018     │ 0.762284     │ 0.531712          │ 0.531712            │ 7                    │ 0        │\n",
       "│ 4   │ 5682812  │ 40    │ bi-weekly    │ 0          │ 5230   │ 0               │ 6              │ 1                    │ 2                  │ 7                  │ 1        │ 700              │ 42150      │ 0.665224     │ 0.960832     │ 0.767828     │ 0.778831     │ 0.792552          │ 0.592552            │ 8                    │ 1        │\n",
       "│ 5   │ 5335819  │ 33    │ semi-monthly │ 0          │ 3590   │ 0               │ 5              │ 2                    │ 2                  │ 8                  │ 1        │ 1100             │ 53850      │ 0.617361     │ 0.85756      │ 0.613487     │ 0.665523     │ 0.744634          │ 0.744634            │ 12                   │ 0        │"
      ]
     },
     "execution_count": 5,
     "metadata": {},
     "output_type": "execute_result"
    }
   ],
   "source": [
    "df = DataFrame(CSV.File(\"Financial-Data.csv\"))\n",
    "first(df, 5)"
   ]
  },
  {
   "cell_type": "code",
   "execution_count": null,
   "metadata": {},
   "outputs": [],
   "source": []
  },
  {
   "cell_type": "code",
   "execution_count": 6,
   "metadata": {},
   "outputs": [
    {
     "data": {
      "text/html": [
       "<table class=\"data-frame\"><thead><tr><th></th><th>variable</th><th>mean</th><th>min</th><th>median</th><th>max</th><th>nunique</th><th>nmissing</th><th>eltype</th></tr><tr><th></th><th>Symbol</th><th>Union…</th><th>Any</th><th>Union…</th><th>Any</th><th>Union…</th><th>Nothing</th><th>DataType</th></tr></thead><tbody><p>21 rows × 8 columns</p><tr><th>1</th><td>entry_id</td><td>5.59698e6</td><td>1111398</td><td>5.60838e6</td><td>9999874</td><td></td><td></td><td>Int64</td></tr><tr><th>2</th><td>age</td><td>43.0154</td><td>18</td><td>42.0</td><td>96</td><td></td><td></td><td>Int64</td></tr><tr><th>3</th><td>pay_schedule</td><td></td><td>bi-weekly</td><td></td><td>weekly</td><td>4</td><td></td><td>String</td></tr><tr><th>4</th><td>home_owner</td><td>0.425173</td><td>0</td><td>0.0</td><td>1</td><td></td><td></td><td>Int64</td></tr><tr><th>5</th><td>income</td><td>3657.21</td><td>905</td><td>3260.0</td><td>9985</td><td></td><td></td><td>Int64</td></tr><tr><th>6</th><td>months_employed</td><td>1.18601</td><td>0</td><td>0.0</td><td>11</td><td></td><td></td><td>Int64</td></tr><tr><th>7</th><td>years_employed</td><td>3.52686</td><td>0</td><td>3.0</td><td>16</td><td></td><td></td><td>Int64</td></tr><tr><th>8</th><td>current_address_year</td><td>3.58471</td><td>0</td><td>3.0</td><td>12</td><td></td><td></td><td>Int64</td></tr><tr><th>9</th><td>personal_account_m</td><td>3.42718</td><td>0</td><td>2.0</td><td>11</td><td></td><td></td><td>Int64</td></tr><tr><th>10</th><td>personal_account_y</td><td>3.50335</td><td>0</td><td>3.0</td><td>15</td><td></td><td></td><td>Int64</td></tr><tr><th>11</th><td>has_debt</td><td>0.795399</td><td>0</td><td>1.0</td><td>1</td><td></td><td></td><td>Int64</td></tr><tr><th>12</th><td>amount_requested</td><td>950.446</td><td>350</td><td>700.0</td><td>10200</td><td></td><td></td><td>Int64</td></tr><tr><th>13</th><td>risk_score</td><td>61086.3</td><td>2100</td><td>61200.0</td><td>99750</td><td></td><td></td><td>Int64</td></tr><tr><th>14</th><td>risk_score_2</td><td>0.690878</td><td>0.0232582</td><td>0.699561</td><td>0.999997</td><td></td><td></td><td>Float64</td></tr><tr><th>15</th><td>risk_score_3</td><td>0.878276</td><td>0.451371</td><td>0.881004</td><td>0.999024</td><td></td><td></td><td>Float64</td></tr><tr><th>16</th><td>risk_score_4</td><td>0.583155</td><td>0.0167245</td><td>0.588208</td><td>0.978932</td><td></td><td></td><td>Float64</td></tr><tr><th>17</th><td>risk_score_5</td><td>0.718252</td><td>0.153367</td><td>0.725113</td><td>0.99626</td><td></td><td></td><td>Float64</td></tr><tr><th>18</th><td>ext_quality_score</td><td>0.623112</td><td>0.010184</td><td>0.625944</td><td>0.970249</td><td></td><td></td><td>Float64</td></tr><tr><th>19</th><td>ext_quality_score_2</td><td>0.622068</td><td>0.006622</td><td>0.622974</td><td>0.966953</td><td></td><td></td><td>Float64</td></tr><tr><th>20</th><td>inquiries_last_month</td><td>6.45723</td><td>1</td><td>6.0</td><td>30</td><td></td><td></td><td>Int64</td></tr><tr><th>21</th><td>e_signed</td><td>0.538251</td><td>0</td><td>1.0</td><td>1</td><td></td><td></td><td>Int64</td></tr></tbody></table>"
      ],
      "text/latex": [
       "\\begin{tabular}{r|cccccccc}\n",
       "\t& variable & mean & min & median & max & nunique & nmissing & eltype\\\\\n",
       "\t\\hline\n",
       "\t& Symbol & Union… & Any & Union… & Any & Union… & Nothing & DataType\\\\\n",
       "\t\\hline\n",
       "\t1 & entry\\_id & 5.59698e6 & 1111398 & 5.60838e6 & 9999874 &  &  & Int64 \\\\\n",
       "\t2 & age & 43.0154 & 18 & 42.0 & 96 &  &  & Int64 \\\\\n",
       "\t3 & pay\\_schedule &  & bi-weekly &  & weekly & 4 &  & String \\\\\n",
       "\t4 & home\\_owner & 0.425173 & 0 & 0.0 & 1 &  &  & Int64 \\\\\n",
       "\t5 & income & 3657.21 & 905 & 3260.0 & 9985 &  &  & Int64 \\\\\n",
       "\t6 & months\\_employed & 1.18601 & 0 & 0.0 & 11 &  &  & Int64 \\\\\n",
       "\t7 & years\\_employed & 3.52686 & 0 & 3.0 & 16 &  &  & Int64 \\\\\n",
       "\t8 & current\\_address\\_year & 3.58471 & 0 & 3.0 & 12 &  &  & Int64 \\\\\n",
       "\t9 & personal\\_account\\_m & 3.42718 & 0 & 2.0 & 11 &  &  & Int64 \\\\\n",
       "\t10 & personal\\_account\\_y & 3.50335 & 0 & 3.0 & 15 &  &  & Int64 \\\\\n",
       "\t11 & has\\_debt & 0.795399 & 0 & 1.0 & 1 &  &  & Int64 \\\\\n",
       "\t12 & amount\\_requested & 950.446 & 350 & 700.0 & 10200 &  &  & Int64 \\\\\n",
       "\t13 & risk\\_score & 61086.3 & 2100 & 61200.0 & 99750 &  &  & Int64 \\\\\n",
       "\t14 & risk\\_score\\_2 & 0.690878 & 0.0232582 & 0.699561 & 0.999997 &  &  & Float64 \\\\\n",
       "\t15 & risk\\_score\\_3 & 0.878276 & 0.451371 & 0.881004 & 0.999024 &  &  & Float64 \\\\\n",
       "\t16 & risk\\_score\\_4 & 0.583155 & 0.0167245 & 0.588208 & 0.978932 &  &  & Float64 \\\\\n",
       "\t17 & risk\\_score\\_5 & 0.718252 & 0.153367 & 0.725113 & 0.99626 &  &  & Float64 \\\\\n",
       "\t18 & ext\\_quality\\_score & 0.623112 & 0.010184 & 0.625944 & 0.970249 &  &  & Float64 \\\\\n",
       "\t19 & ext\\_quality\\_score\\_2 & 0.622068 & 0.006622 & 0.622974 & 0.966953 &  &  & Float64 \\\\\n",
       "\t20 & inquiries\\_last\\_month & 6.45723 & 1 & 6.0 & 30 &  &  & Int64 \\\\\n",
       "\t21 & e\\_signed & 0.538251 & 0 & 1.0 & 1 &  &  & Int64 \\\\\n",
       "\\end{tabular}\n"
      ],
      "text/plain": [
       "21×8 DataFrame\n",
       "│ Row │ variable             │ mean      │ min       │ median    │ max      │ nunique │ nmissing │ eltype   │\n",
       "│     │ \u001b[90mSymbol\u001b[39m               │ \u001b[90mUnion…\u001b[39m    │ \u001b[90mAny\u001b[39m       │ \u001b[90mUnion…\u001b[39m    │ \u001b[90mAny\u001b[39m      │ \u001b[90mUnion…\u001b[39m  │ \u001b[90mNothing\u001b[39m  │ \u001b[90mDataType\u001b[39m │\n",
       "├─────┼──────────────────────┼───────────┼───────────┼───────────┼──────────┼─────────┼──────────┼──────────┤\n",
       "│ 1   │ entry_id             │ 5.59698e6 │ 1111398   │ 5.60838e6 │ 9999874  │         │          │ Int64    │\n",
       "│ 2   │ age                  │ 43.0154   │ 18        │ 42.0      │ 96       │         │          │ Int64    │\n",
       "│ 3   │ pay_schedule         │           │ bi-weekly │           │ weekly   │ 4       │          │ String   │\n",
       "│ 4   │ home_owner           │ 0.425173  │ 0         │ 0.0       │ 1        │         │          │ Int64    │\n",
       "│ 5   │ income               │ 3657.21   │ 905       │ 3260.0    │ 9985     │         │          │ Int64    │\n",
       "│ 6   │ months_employed      │ 1.18601   │ 0         │ 0.0       │ 11       │         │          │ Int64    │\n",
       "│ 7   │ years_employed       │ 3.52686   │ 0         │ 3.0       │ 16       │         │          │ Int64    │\n",
       "│ 8   │ current_address_year │ 3.58471   │ 0         │ 3.0       │ 12       │         │          │ Int64    │\n",
       "│ 9   │ personal_account_m   │ 3.42718   │ 0         │ 2.0       │ 11       │         │          │ Int64    │\n",
       "│ 10  │ personal_account_y   │ 3.50335   │ 0         │ 3.0       │ 15       │         │          │ Int64    │\n",
       "│ 11  │ has_debt             │ 0.795399  │ 0         │ 1.0       │ 1        │         │          │ Int64    │\n",
       "│ 12  │ amount_requested     │ 950.446   │ 350       │ 700.0     │ 10200    │         │          │ Int64    │\n",
       "│ 13  │ risk_score           │ 61086.3   │ 2100      │ 61200.0   │ 99750    │         │          │ Int64    │\n",
       "│ 14  │ risk_score_2         │ 0.690878  │ 0.0232582 │ 0.699561  │ 0.999997 │         │          │ Float64  │\n",
       "│ 15  │ risk_score_3         │ 0.878276  │ 0.451371  │ 0.881004  │ 0.999024 │         │          │ Float64  │\n",
       "│ 16  │ risk_score_4         │ 0.583155  │ 0.0167245 │ 0.588208  │ 0.978932 │         │          │ Float64  │\n",
       "│ 17  │ risk_score_5         │ 0.718252  │ 0.153367  │ 0.725113  │ 0.99626  │         │          │ Float64  │\n",
       "│ 18  │ ext_quality_score    │ 0.623112  │ 0.010184  │ 0.625944  │ 0.970249 │         │          │ Float64  │\n",
       "│ 19  │ ext_quality_score_2  │ 0.622068  │ 0.006622  │ 0.622974  │ 0.966953 │         │          │ Float64  │\n",
       "│ 20  │ inquiries_last_month │ 6.45723   │ 1         │ 6.0       │ 30       │         │          │ Int64    │\n",
       "│ 21  │ e_signed             │ 0.538251  │ 0         │ 1.0       │ 1        │         │          │ Int64    │"
      ]
     },
     "execution_count": 6,
     "metadata": {},
     "output_type": "execute_result"
    }
   ],
   "source": [
    "describe(df)"
   ]
  },
  {
   "cell_type": "code",
   "execution_count": 7,
   "metadata": {},
   "outputs": [
    {
     "data": {
      "text/plain": [
       "21-element Array{Symbol,1}:\n",
       " :entry_id\n",
       " :age\n",
       " :pay_schedule\n",
       " :home_owner\n",
       " :income\n",
       " :months_employed\n",
       " :years_employed\n",
       " :current_address_year\n",
       " :personal_account_m\n",
       " :personal_account_y\n",
       " :has_debt\n",
       " :amount_requested\n",
       " :risk_score\n",
       " :risk_score_2\n",
       " :risk_score_3\n",
       " :risk_score_4\n",
       " :risk_score_5\n",
       " :ext_quality_score\n",
       " :ext_quality_score_2\n",
       " :inquiries_last_month\n",
       " :e_signed"
      ]
     },
     "execution_count": 7,
     "metadata": {},
     "output_type": "execute_result"
    }
   ],
   "source": [
    "names(df)"
   ]
  },
  {
   "cell_type": "code",
   "execution_count": 8,
   "metadata": {},
   "outputs": [],
   "source": [
    "# Merging columns\n",
    "df[:personal_account_months] = (df.personal_account_m + (df.personal_account_y * 12));"
   ]
  },
  {
   "cell_type": "code",
   "execution_count": null,
   "metadata": {},
   "outputs": [],
   "source": []
  },
  {
   "cell_type": "markdown",
   "metadata": {},
   "source": [
    "# FeatureEngineering"
   ]
  },
  {
   "cell_type": "code",
   "execution_count": 9,
   "metadata": {},
   "outputs": [
    {
     "data": {
      "text/html": [
       "<table class=\"data-frame\"><thead><tr><th></th><th>entry_id</th><th>age</th><th>pay_schedule</th><th>home_owner</th><th>income</th><th>months_employed</th><th>years_employed</th><th>current_address_year</th><th>personal_account_m</th><th>personal_account_y</th><th>has_debt</th><th>amount_requested</th><th>risk_score</th><th>risk_score_2</th><th>risk_score_3</th><th>risk_score_4</th><th>risk_score_5</th><th>ext_quality_score</th><th>ext_quality_score_2</th><th>inquiries_last_month</th><th>e_signed</th><th>personal_account_months</th><th>bi-weekly</th><th>weekly</th><th>semi-monthly</th><th>monthly</th></tr><tr><th></th><th>Int64</th><th>Int64</th><th>String</th><th>Int64</th><th>Int64</th><th>Int64</th><th>Int64</th><th>Int64</th><th>Int64</th><th>Int64</th><th>Int64</th><th>Int64</th><th>Int64</th><th>Float64</th><th>Float64</th><th>Float64</th><th>Float64</th><th>Float64</th><th>Float64</th><th>Int64</th><th>Int64</th><th>Int64</th><th>Bool</th><th>Bool</th><th>Bool</th><th>Bool</th></tr></thead><tbody><p>17,908 rows × 26 columns</p><tr><th>1</th><td>7629673</td><td>40</td><td>bi-weekly</td><td>1</td><td>3135</td><td>0</td><td>3</td><td>3</td><td>6</td><td>2</td><td>1</td><td>550</td><td>36200</td><td>0.737398</td><td>0.903517</td><td>0.487712</td><td>0.515977</td><td>0.580918</td><td>0.380918</td><td>10</td><td>1</td><td>30</td><td>1</td><td>0</td><td>0</td><td>0</td></tr><tr><th>2</th><td>3560428</td><td>61</td><td>weekly</td><td>0</td><td>3180</td><td>0</td><td>6</td><td>3</td><td>2</td><td>7</td><td>1</td><td>600</td><td>30150</td><td>0.73851</td><td>0.881027</td><td>0.713423</td><td>0.826402</td><td>0.73072</td><td>0.63072</td><td>9</td><td>0</td><td>86</td><td>0</td><td>1</td><td>0</td><td>0</td></tr><tr><th>3</th><td>6934997</td><td>23</td><td>weekly</td><td>0</td><td>1540</td><td>6</td><td>0</td><td>0</td><td>7</td><td>1</td><td>1</td><td>450</td><td>34550</td><td>0.642993</td><td>0.766554</td><td>0.595018</td><td>0.762284</td><td>0.531712</td><td>0.531712</td><td>7</td><td>0</td><td>19</td><td>0</td><td>1</td><td>0</td><td>0</td></tr><tr><th>4</th><td>5682812</td><td>40</td><td>bi-weekly</td><td>0</td><td>5230</td><td>0</td><td>6</td><td>1</td><td>2</td><td>7</td><td>1</td><td>700</td><td>42150</td><td>0.665224</td><td>0.960832</td><td>0.767828</td><td>0.778831</td><td>0.792552</td><td>0.592552</td><td>8</td><td>1</td><td>86</td><td>1</td><td>0</td><td>0</td><td>0</td></tr><tr><th>5</th><td>5335819</td><td>33</td><td>semi-monthly</td><td>0</td><td>3590</td><td>0</td><td>5</td><td>2</td><td>2</td><td>8</td><td>1</td><td>1100</td><td>53850</td><td>0.617361</td><td>0.85756</td><td>0.613487</td><td>0.665523</td><td>0.744634</td><td>0.744634</td><td>12</td><td>0</td><td>98</td><td>0</td><td>0</td><td>1</td><td>0</td></tr><tr><th>6</th><td>8492423</td><td>21</td><td>weekly</td><td>0</td><td>2303</td><td>0</td><td>5</td><td>8</td><td>2</td><td>7</td><td>1</td><td>600</td><td>74850</td><td>0.677109</td><td>0.758765</td><td>0.495609</td><td>0.664762</td><td>0.592556</td><td>0.492556</td><td>6</td><td>1</td><td>86</td><td>0</td><td>1</td><td>0</td><td>0</td></tr><tr><th>7</th><td>7948313</td><td>26</td><td>bi-weekly</td><td>0</td><td>2795</td><td>0</td><td>4</td><td>4</td><td>1</td><td>6</td><td>1</td><td>800</td><td>50800</td><td>0.738055</td><td>0.873204</td><td>0.666437</td><td>0.700392</td><td>0.58413</td><td>0.68413</td><td>14</td><td>1</td><td>73</td><td>1</td><td>0</td><td>0</td><td>0</td></tr><tr><th>8</th><td>4297036</td><td>43</td><td>bi-weekly</td><td>0</td><td>5000</td><td>0</td><td>2</td><td>1</td><td>1</td><td>2</td><td>1</td><td>1100</td><td>69100</td><td>0.798303</td><td>0.841747</td><td>0.401971</td><td>0.568787</td><td>0.525905</td><td>0.725905</td><td>5</td><td>1</td><td>25</td><td>1</td><td>0</td><td>0</td><td>0</td></tr><tr><th>9</th><td>6493191</td><td>32</td><td>semi-monthly</td><td>0</td><td>5260</td><td>3</td><td>0</td><td>3</td><td>1</td><td>4</td><td>1</td><td>1150</td><td>64050</td><td>0.652429</td><td>0.802433</td><td>0.593816</td><td>0.560389</td><td>0.569459</td><td>0.369459</td><td>3</td><td>1</td><td>49</td><td>0</td><td>0</td><td>1</td><td>0</td></tr><tr><th>10</th><td>8908605</td><td>51</td><td>bi-weekly</td><td>1</td><td>3055</td><td>0</td><td>6</td><td>11</td><td>4</td><td>2</td><td>1</td><td>600</td><td>59750</td><td>0.624666</td><td>0.968565</td><td>0.509919</td><td>0.749624</td><td>0.758607</td><td>0.758607</td><td>5</td><td>1</td><td>28</td><td>1</td><td>0</td><td>0</td><td>0</td></tr><tr><th>11</th><td>8990111</td><td>61</td><td>bi-weekly</td><td>1</td><td>3270</td><td>0</td><td>4</td><td>0</td><td>4</td><td>3</td><td>1</td><td>400</td><td>61700</td><td>0.659736</td><td>0.937287</td><td>0.852323</td><td>0.785698</td><td>0.632466</td><td>0.732466</td><td>7</td><td>0</td><td>40</td><td>1</td><td>0</td><td>0</td><td>0</td></tr><tr><th>12</th><td>3818616</td><td>34</td><td>weekly</td><td>0</td><td>3877</td><td>6</td><td>5</td><td>2</td><td>2</td><td>7</td><td>1</td><td>800</td><td>55550</td><td>0.802788</td><td>0.900083</td><td>0.746077</td><td>0.791319</td><td>0.807174</td><td>0.507174</td><td>10</td><td>1</td><td>86</td><td>0</td><td>1</td><td>0</td><td>0</td></tr><tr><th>13</th><td>6889184</td><td>56</td><td>bi-weekly</td><td>0</td><td>3555</td><td>0</td><td>8</td><td>8</td><td>6</td><td>2</td><td>1</td><td>900</td><td>64500</td><td>0.640915</td><td>0.86977</td><td>0.69968</td><td>0.706527</td><td>0.752686</td><td>0.452686</td><td>10</td><td>1</td><td>30</td><td>1</td><td>0</td><td>0</td><td>0</td></tr><tr><th>14</th><td>6817588</td><td>24</td><td>bi-weekly</td><td>0</td><td>2135</td><td>5</td><td>1</td><td>3</td><td>3</td><td>2</td><td>1</td><td>1000</td><td>63000</td><td>0.549034</td><td>0.739686</td><td>0.484734</td><td>0.558979</td><td>0.454199</td><td>0.454199</td><td>8</td><td>1</td><td>27</td><td>1</td><td>0</td><td>0</td><td>0</td></tr><tr><th>15</th><td>6235249</td><td>50</td><td>bi-weekly</td><td>0</td><td>3700</td><td>0</td><td>2</td><td>6</td><td>2</td><td>1</td><td>1</td><td>500</td><td>2800</td><td>0.467041</td><td>0.809313</td><td>0.624904</td><td>0.621841</td><td>0.462823</td><td>0.462823</td><td>16</td><td>1</td><td>14</td><td>1</td><td>0</td><td>0</td><td>0</td></tr><tr><th>16</th><td>8149720</td><td>61</td><td>bi-weekly</td><td>0</td><td>6110</td><td>0</td><td>6</td><td>5</td><td>2</td><td>4</td><td>0</td><td>900</td><td>76350</td><td>0.739293</td><td>0.958588</td><td>0.717289</td><td>0.816048</td><td>0.495346</td><td>0.495346</td><td>2</td><td>1</td><td>50</td><td>1</td><td>0</td><td>0</td><td>0</td></tr><tr><th>17</th><td>9375601</td><td>29</td><td>bi-weekly</td><td>0</td><td>1515</td><td>6</td><td>1</td><td>0</td><td>5</td><td>2</td><td>1</td><td>400</td><td>56600</td><td>0.744604</td><td>0.852992</td><td>0.340333</td><td>0.533661</td><td>0.374144</td><td>0.374144</td><td>6</td><td>0</td><td>29</td><td>1</td><td>0</td><td>0</td><td>0</td></tr><tr><th>18</th><td>7611317</td><td>58</td><td>weekly</td><td>1</td><td>3675</td><td>0</td><td>10</td><td>10</td><td>2</td><td>0</td><td>1</td><td>400</td><td>29150</td><td>0.691881</td><td>0.833958</td><td>0.765912</td><td>0.754194</td><td>0.824777</td><td>0.624777</td><td>9</td><td>1</td><td>2</td><td>0</td><td>1</td><td>0</td><td>0</td></tr><tr><th>19</th><td>8515555</td><td>36</td><td>bi-weekly</td><td>0</td><td>1520</td><td>9</td><td>3</td><td>5</td><td>9</td><td>4</td><td>1</td><td>900</td><td>35600</td><td>0.647353</td><td>0.879916</td><td>0.575362</td><td>0.613068</td><td>0.716315</td><td>0.616315</td><td>9</td><td>1</td><td>57</td><td>1</td><td>0</td><td>0</td><td>0</td></tr><tr><th>20</th><td>4083808</td><td>42</td><td>semi-monthly</td><td>0</td><td>4780</td><td>10</td><td>1</td><td>1</td><td>6</td><td>3</td><td>1</td><td>400</td><td>35400</td><td>0.53907</td><td>0.867716</td><td>0.302845</td><td>0.506525</td><td>0.61838</td><td>0.61838</td><td>8</td><td>1</td><td>42</td><td>0</td><td>0</td><td>1</td><td>0</td></tr><tr><th>21</th><td>1403171</td><td>62</td><td>bi-weekly</td><td>0</td><td>3240</td><td>1</td><td>6</td><td>6</td><td>3</td><td>6</td><td>1</td><td>1200</td><td>68650</td><td>0.720442</td><td>0.812713</td><td>0.647687</td><td>0.733741</td><td>0.446364</td><td>0.446364</td><td>4</td><td>0</td><td>75</td><td>1</td><td>0</td><td>0</td><td>0</td></tr><tr><th>22</th><td>8079784</td><td>40</td><td>bi-weekly</td><td>0</td><td>3105</td><td>4</td><td>3</td><td>4</td><td>5</td><td>4</td><td>1</td><td>600</td><td>53800</td><td>0.646739</td><td>0.896716</td><td>0.598545</td><td>0.685838</td><td>0.532947</td><td>0.632947</td><td>2</td><td>1</td><td>53</td><td>1</td><td>0</td><td>0</td><td>0</td></tr><tr><th>23</th><td>3884169</td><td>35</td><td>weekly</td><td>1</td><td>5220</td><td>1</td><td>5</td><td>5</td><td>8</td><td>3</td><td>1</td><td>900</td><td>62350</td><td>0.669209</td><td>0.88106</td><td>0.504127</td><td>0.64817</td><td>0.535607</td><td>0.735607</td><td>6</td><td>0</td><td>44</td><td>0</td><td>1</td><td>0</td><td>0</td></tr><tr><th>24</th><td>2868841</td><td>66</td><td>monthly</td><td>0</td><td>3625</td><td>0</td><td>6</td><td>4</td><td>1</td><td>2</td><td>0</td><td>1050</td><td>61000</td><td>0.531936</td><td>0.909196</td><td>0.346431</td><td>0.59769</td><td>0.449328</td><td>0.549328</td><td>15</td><td>1</td><td>25</td><td>0</td><td>0</td><td>0</td><td>1</td></tr><tr><th>25</th><td>3470965</td><td>37</td><td>bi-weekly</td><td>1</td><td>4499</td><td>0</td><td>5</td><td>8</td><td>2</td><td>4</td><td>0</td><td>700</td><td>63500</td><td>0.715705</td><td>0.825036</td><td>0.49642</td><td>0.646907</td><td>0.734796</td><td>0.434796</td><td>4</td><td>1</td><td>50</td><td>1</td><td>0</td><td>0</td><td>0</td></tr><tr><th>26</th><td>1519375</td><td>31</td><td>bi-weekly</td><td>0</td><td>2740</td><td>0</td><td>1</td><td>1</td><td>2</td><td>3</td><td>1</td><td>500</td><td>67350</td><td>0.676913</td><td>0.762098</td><td>0.42185</td><td>0.543713</td><td>0.48102</td><td>0.48102</td><td>9</td><td>1</td><td>38</td><td>1</td><td>0</td><td>0</td><td>0</td></tr><tr><th>27</th><td>7769592</td><td>48</td><td>bi-weekly</td><td>0</td><td>3635</td><td>0</td><td>3</td><td>2</td><td>2</td><td>4</td><td>1</td><td>900</td><td>48350</td><td>0.646338</td><td>0.808179</td><td>0.559529</td><td>0.755586</td><td>0.444159</td><td>0.644159</td><td>3</td><td>0</td><td>50</td><td>1</td><td>0</td><td>0</td><td>0</td></tr><tr><th>28</th><td>4218775</td><td>53</td><td>monthly</td><td>0</td><td>1735</td><td>0</td><td>4</td><td>2</td><td>1</td><td>2</td><td>1</td><td>600</td><td>58350</td><td>0.624944</td><td>0.854215</td><td>0.578205</td><td>0.754923</td><td>0.505423</td><td>0.605423</td><td>6</td><td>1</td><td>25</td><td>0</td><td>0</td><td>0</td><td>1</td></tr><tr><th>29</th><td>7290744</td><td>50</td><td>bi-weekly</td><td>0</td><td>3165</td><td>0</td><td>2</td><td>2</td><td>2</td><td>2</td><td>1</td><td>700</td><td>87550</td><td>0.63643</td><td>0.855315</td><td>0.652361</td><td>0.822394</td><td>0.808443</td><td>0.508443</td><td>7</td><td>0</td><td>26</td><td>1</td><td>0</td><td>0</td><td>0</td></tr><tr><th>30</th><td>1364529</td><td>46</td><td>weekly</td><td>1</td><td>3005</td><td>0</td><td>3</td><td>10</td><td>1</td><td>5</td><td>1</td><td>700</td><td>54100</td><td>0.585051</td><td>0.925997</td><td>0.51917</td><td>0.78236</td><td>0.568509</td><td>0.468509</td><td>4</td><td>0</td><td>61</td><td>0</td><td>1</td><td>0</td><td>0</td></tr><tr><th>&vellip;</th><td>&vellip;</td><td>&vellip;</td><td>&vellip;</td><td>&vellip;</td><td>&vellip;</td><td>&vellip;</td><td>&vellip;</td><td>&vellip;</td><td>&vellip;</td><td>&vellip;</td><td>&vellip;</td><td>&vellip;</td><td>&vellip;</td><td>&vellip;</td><td>&vellip;</td><td>&vellip;</td><td>&vellip;</td><td>&vellip;</td><td>&vellip;</td><td>&vellip;</td><td>&vellip;</td><td>&vellip;</td><td>&vellip;</td><td>&vellip;</td><td>&vellip;</td><td>&vellip;</td></tr></tbody></table>"
      ],
      "text/latex": [
       "\\begin{tabular}{r|cccccccccccccccccccccccccc}\n",
       "\t& entry\\_id & age & pay\\_schedule & home\\_owner & income & months\\_employed & years\\_employed & current\\_address\\_year & personal\\_account\\_m & personal\\_account\\_y & has\\_debt & amount\\_requested & risk\\_score & risk\\_score\\_2 & risk\\_score\\_3 & risk\\_score\\_4 & risk\\_score\\_5 & ext\\_quality\\_score & ext\\_quality\\_score\\_2 & inquiries\\_last\\_month & e\\_signed & personal\\_account\\_months & bi-weekly & weekly & semi-monthly & monthly\\\\\n",
       "\t\\hline\n",
       "\t& Int64 & Int64 & String & Int64 & Int64 & Int64 & Int64 & Int64 & Int64 & Int64 & Int64 & Int64 & Int64 & Float64 & Float64 & Float64 & Float64 & Float64 & Float64 & Int64 & Int64 & Int64 & Bool & Bool & Bool & Bool\\\\\n",
       "\t\\hline\n",
       "\t1 & 7629673 & 40 & bi-weekly & 1 & 3135 & 0 & 3 & 3 & 6 & 2 & 1 & 550 & 36200 & 0.737398 & 0.903517 & 0.487712 & 0.515977 & 0.580918 & 0.380918 & 10 & 1 & 30 & 1 & 0 & 0 & 0 \\\\\n",
       "\t2 & 3560428 & 61 & weekly & 0 & 3180 & 0 & 6 & 3 & 2 & 7 & 1 & 600 & 30150 & 0.73851 & 0.881027 & 0.713423 & 0.826402 & 0.73072 & 0.63072 & 9 & 0 & 86 & 0 & 1 & 0 & 0 \\\\\n",
       "\t3 & 6934997 & 23 & weekly & 0 & 1540 & 6 & 0 & 0 & 7 & 1 & 1 & 450 & 34550 & 0.642993 & 0.766554 & 0.595018 & 0.762284 & 0.531712 & 0.531712 & 7 & 0 & 19 & 0 & 1 & 0 & 0 \\\\\n",
       "\t4 & 5682812 & 40 & bi-weekly & 0 & 5230 & 0 & 6 & 1 & 2 & 7 & 1 & 700 & 42150 & 0.665224 & 0.960832 & 0.767828 & 0.778831 & 0.792552 & 0.592552 & 8 & 1 & 86 & 1 & 0 & 0 & 0 \\\\\n",
       "\t5 & 5335819 & 33 & semi-monthly & 0 & 3590 & 0 & 5 & 2 & 2 & 8 & 1 & 1100 & 53850 & 0.617361 & 0.85756 & 0.613487 & 0.665523 & 0.744634 & 0.744634 & 12 & 0 & 98 & 0 & 0 & 1 & 0 \\\\\n",
       "\t6 & 8492423 & 21 & weekly & 0 & 2303 & 0 & 5 & 8 & 2 & 7 & 1 & 600 & 74850 & 0.677109 & 0.758765 & 0.495609 & 0.664762 & 0.592556 & 0.492556 & 6 & 1 & 86 & 0 & 1 & 0 & 0 \\\\\n",
       "\t7 & 7948313 & 26 & bi-weekly & 0 & 2795 & 0 & 4 & 4 & 1 & 6 & 1 & 800 & 50800 & 0.738055 & 0.873204 & 0.666437 & 0.700392 & 0.58413 & 0.68413 & 14 & 1 & 73 & 1 & 0 & 0 & 0 \\\\\n",
       "\t8 & 4297036 & 43 & bi-weekly & 0 & 5000 & 0 & 2 & 1 & 1 & 2 & 1 & 1100 & 69100 & 0.798303 & 0.841747 & 0.401971 & 0.568787 & 0.525905 & 0.725905 & 5 & 1 & 25 & 1 & 0 & 0 & 0 \\\\\n",
       "\t9 & 6493191 & 32 & semi-monthly & 0 & 5260 & 3 & 0 & 3 & 1 & 4 & 1 & 1150 & 64050 & 0.652429 & 0.802433 & 0.593816 & 0.560389 & 0.569459 & 0.369459 & 3 & 1 & 49 & 0 & 0 & 1 & 0 \\\\\n",
       "\t10 & 8908605 & 51 & bi-weekly & 1 & 3055 & 0 & 6 & 11 & 4 & 2 & 1 & 600 & 59750 & 0.624666 & 0.968565 & 0.509919 & 0.749624 & 0.758607 & 0.758607 & 5 & 1 & 28 & 1 & 0 & 0 & 0 \\\\\n",
       "\t11 & 8990111 & 61 & bi-weekly & 1 & 3270 & 0 & 4 & 0 & 4 & 3 & 1 & 400 & 61700 & 0.659736 & 0.937287 & 0.852323 & 0.785698 & 0.632466 & 0.732466 & 7 & 0 & 40 & 1 & 0 & 0 & 0 \\\\\n",
       "\t12 & 3818616 & 34 & weekly & 0 & 3877 & 6 & 5 & 2 & 2 & 7 & 1 & 800 & 55550 & 0.802788 & 0.900083 & 0.746077 & 0.791319 & 0.807174 & 0.507174 & 10 & 1 & 86 & 0 & 1 & 0 & 0 \\\\\n",
       "\t13 & 6889184 & 56 & bi-weekly & 0 & 3555 & 0 & 8 & 8 & 6 & 2 & 1 & 900 & 64500 & 0.640915 & 0.86977 & 0.69968 & 0.706527 & 0.752686 & 0.452686 & 10 & 1 & 30 & 1 & 0 & 0 & 0 \\\\\n",
       "\t14 & 6817588 & 24 & bi-weekly & 0 & 2135 & 5 & 1 & 3 & 3 & 2 & 1 & 1000 & 63000 & 0.549034 & 0.739686 & 0.484734 & 0.558979 & 0.454199 & 0.454199 & 8 & 1 & 27 & 1 & 0 & 0 & 0 \\\\\n",
       "\t15 & 6235249 & 50 & bi-weekly & 0 & 3700 & 0 & 2 & 6 & 2 & 1 & 1 & 500 & 2800 & 0.467041 & 0.809313 & 0.624904 & 0.621841 & 0.462823 & 0.462823 & 16 & 1 & 14 & 1 & 0 & 0 & 0 \\\\\n",
       "\t16 & 8149720 & 61 & bi-weekly & 0 & 6110 & 0 & 6 & 5 & 2 & 4 & 0 & 900 & 76350 & 0.739293 & 0.958588 & 0.717289 & 0.816048 & 0.495346 & 0.495346 & 2 & 1 & 50 & 1 & 0 & 0 & 0 \\\\\n",
       "\t17 & 9375601 & 29 & bi-weekly & 0 & 1515 & 6 & 1 & 0 & 5 & 2 & 1 & 400 & 56600 & 0.744604 & 0.852992 & 0.340333 & 0.533661 & 0.374144 & 0.374144 & 6 & 0 & 29 & 1 & 0 & 0 & 0 \\\\\n",
       "\t18 & 7611317 & 58 & weekly & 1 & 3675 & 0 & 10 & 10 & 2 & 0 & 1 & 400 & 29150 & 0.691881 & 0.833958 & 0.765912 & 0.754194 & 0.824777 & 0.624777 & 9 & 1 & 2 & 0 & 1 & 0 & 0 \\\\\n",
       "\t19 & 8515555 & 36 & bi-weekly & 0 & 1520 & 9 & 3 & 5 & 9 & 4 & 1 & 900 & 35600 & 0.647353 & 0.879916 & 0.575362 & 0.613068 & 0.716315 & 0.616315 & 9 & 1 & 57 & 1 & 0 & 0 & 0 \\\\\n",
       "\t20 & 4083808 & 42 & semi-monthly & 0 & 4780 & 10 & 1 & 1 & 6 & 3 & 1 & 400 & 35400 & 0.53907 & 0.867716 & 0.302845 & 0.506525 & 0.61838 & 0.61838 & 8 & 1 & 42 & 0 & 0 & 1 & 0 \\\\\n",
       "\t21 & 1403171 & 62 & bi-weekly & 0 & 3240 & 1 & 6 & 6 & 3 & 6 & 1 & 1200 & 68650 & 0.720442 & 0.812713 & 0.647687 & 0.733741 & 0.446364 & 0.446364 & 4 & 0 & 75 & 1 & 0 & 0 & 0 \\\\\n",
       "\t22 & 8079784 & 40 & bi-weekly & 0 & 3105 & 4 & 3 & 4 & 5 & 4 & 1 & 600 & 53800 & 0.646739 & 0.896716 & 0.598545 & 0.685838 & 0.532947 & 0.632947 & 2 & 1 & 53 & 1 & 0 & 0 & 0 \\\\\n",
       "\t23 & 3884169 & 35 & weekly & 1 & 5220 & 1 & 5 & 5 & 8 & 3 & 1 & 900 & 62350 & 0.669209 & 0.88106 & 0.504127 & 0.64817 & 0.535607 & 0.735607 & 6 & 0 & 44 & 0 & 1 & 0 & 0 \\\\\n",
       "\t24 & 2868841 & 66 & monthly & 0 & 3625 & 0 & 6 & 4 & 1 & 2 & 0 & 1050 & 61000 & 0.531936 & 0.909196 & 0.346431 & 0.59769 & 0.449328 & 0.549328 & 15 & 1 & 25 & 0 & 0 & 0 & 1 \\\\\n",
       "\t25 & 3470965 & 37 & bi-weekly & 1 & 4499 & 0 & 5 & 8 & 2 & 4 & 0 & 700 & 63500 & 0.715705 & 0.825036 & 0.49642 & 0.646907 & 0.734796 & 0.434796 & 4 & 1 & 50 & 1 & 0 & 0 & 0 \\\\\n",
       "\t26 & 1519375 & 31 & bi-weekly & 0 & 2740 & 0 & 1 & 1 & 2 & 3 & 1 & 500 & 67350 & 0.676913 & 0.762098 & 0.42185 & 0.543713 & 0.48102 & 0.48102 & 9 & 1 & 38 & 1 & 0 & 0 & 0 \\\\\n",
       "\t27 & 7769592 & 48 & bi-weekly & 0 & 3635 & 0 & 3 & 2 & 2 & 4 & 1 & 900 & 48350 & 0.646338 & 0.808179 & 0.559529 & 0.755586 & 0.444159 & 0.644159 & 3 & 0 & 50 & 1 & 0 & 0 & 0 \\\\\n",
       "\t28 & 4218775 & 53 & monthly & 0 & 1735 & 0 & 4 & 2 & 1 & 2 & 1 & 600 & 58350 & 0.624944 & 0.854215 & 0.578205 & 0.754923 & 0.505423 & 0.605423 & 6 & 1 & 25 & 0 & 0 & 0 & 1 \\\\\n",
       "\t29 & 7290744 & 50 & bi-weekly & 0 & 3165 & 0 & 2 & 2 & 2 & 2 & 1 & 700 & 87550 & 0.63643 & 0.855315 & 0.652361 & 0.822394 & 0.808443 & 0.508443 & 7 & 0 & 26 & 1 & 0 & 0 & 0 \\\\\n",
       "\t30 & 1364529 & 46 & weekly & 1 & 3005 & 0 & 3 & 10 & 1 & 5 & 1 & 700 & 54100 & 0.585051 & 0.925997 & 0.51917 & 0.78236 & 0.568509 & 0.468509 & 4 & 0 & 61 & 0 & 1 & 0 & 0 \\\\\n",
       "\t$\\dots$ & $\\dots$ & $\\dots$ & $\\dots$ & $\\dots$ & $\\dots$ & $\\dots$ & $\\dots$ & $\\dots$ & $\\dots$ & $\\dots$ & $\\dots$ & $\\dots$ & $\\dots$ & $\\dots$ & $\\dots$ & $\\dots$ & $\\dots$ & $\\dots$ & $\\dots$ & $\\dots$ & $\\dots$ & $\\dots$ & $\\dots$ & $\\dots$ & $\\dots$ & $\\dots$ \\\\\n",
       "\\end{tabular}\n"
      ],
      "text/plain": [
       "17908×26 DataFrame\n",
       "│ Row   │ entry_id │ age   │ pay_schedule │ home_owner │ income │ months_employed │ years_employed │ current_address_year │ personal_account_m │ personal_account_y │ has_debt │ amount_requested │ risk_score │ risk_score_2 │ risk_score_3 │ risk_score_4 │ risk_score_5 │ ext_quality_score │ ext_quality_score_2 │ inquiries_last_month │ e_signed │ personal_account_months │ bi-weekly │ weekly │ semi-monthly │ monthly │\n",
       "│       │ \u001b[90mInt64\u001b[39m    │ \u001b[90mInt64\u001b[39m │ \u001b[90mString\u001b[39m       │ \u001b[90mInt64\u001b[39m      │ \u001b[90mInt64\u001b[39m  │ \u001b[90mInt64\u001b[39m           │ \u001b[90mInt64\u001b[39m          │ \u001b[90mInt64\u001b[39m                │ \u001b[90mInt64\u001b[39m              │ \u001b[90mInt64\u001b[39m              │ \u001b[90mInt64\u001b[39m    │ \u001b[90mInt64\u001b[39m            │ \u001b[90mInt64\u001b[39m      │ \u001b[90mFloat64\u001b[39m      │ \u001b[90mFloat64\u001b[39m      │ \u001b[90mFloat64\u001b[39m      │ \u001b[90mFloat64\u001b[39m      │ \u001b[90mFloat64\u001b[39m           │ \u001b[90mFloat64\u001b[39m             │ \u001b[90mInt64\u001b[39m                │ \u001b[90mInt64\u001b[39m    │ \u001b[90mInt64\u001b[39m                   │ \u001b[90mBool\u001b[39m      │ \u001b[90mBool\u001b[39m   │ \u001b[90mBool\u001b[39m         │ \u001b[90mBool\u001b[39m    │\n",
       "├───────┼──────────┼───────┼──────────────┼────────────┼────────┼─────────────────┼────────────────┼──────────────────────┼────────────────────┼────────────────────┼──────────┼──────────────────┼────────────┼──────────────┼──────────────┼──────────────┼──────────────┼───────────────────┼─────────────────────┼──────────────────────┼──────────┼─────────────────────────┼───────────┼────────┼──────────────┼─────────┤\n",
       "│ 1     │ 7629673  │ 40    │ bi-weekly    │ 1          │ 3135   │ 0               │ 3              │ 3                    │ 6                  │ 2                  │ 1        │ 550              │ 36200      │ 0.737398     │ 0.903517     │ 0.487712     │ 0.515977     │ 0.580918          │ 0.380918            │ 10                   │ 1        │ 30                      │ 1         │ 0      │ 0            │ 0       │\n",
       "│ 2     │ 3560428  │ 61    │ weekly       │ 0          │ 3180   │ 0               │ 6              │ 3                    │ 2                  │ 7                  │ 1        │ 600              │ 30150      │ 0.73851      │ 0.881027     │ 0.713423     │ 0.826402     │ 0.73072           │ 0.63072             │ 9                    │ 0        │ 86                      │ 0         │ 1      │ 0            │ 0       │\n",
       "│ 3     │ 6934997  │ 23    │ weekly       │ 0          │ 1540   │ 6               │ 0              │ 0                    │ 7                  │ 1                  │ 1        │ 450              │ 34550      │ 0.642993     │ 0.766554     │ 0.595018     │ 0.762284     │ 0.531712          │ 0.531712            │ 7                    │ 0        │ 19                      │ 0         │ 1      │ 0            │ 0       │\n",
       "│ 4     │ 5682812  │ 40    │ bi-weekly    │ 0          │ 5230   │ 0               │ 6              │ 1                    │ 2                  │ 7                  │ 1        │ 700              │ 42150      │ 0.665224     │ 0.960832     │ 0.767828     │ 0.778831     │ 0.792552          │ 0.592552            │ 8                    │ 1        │ 86                      │ 1         │ 0      │ 0            │ 0       │\n",
       "│ 5     │ 5335819  │ 33    │ semi-monthly │ 0          │ 3590   │ 0               │ 5              │ 2                    │ 2                  │ 8                  │ 1        │ 1100             │ 53850      │ 0.617361     │ 0.85756      │ 0.613487     │ 0.665523     │ 0.744634          │ 0.744634            │ 12                   │ 0        │ 98                      │ 0         │ 0      │ 1            │ 0       │\n",
       "│ 6     │ 8492423  │ 21    │ weekly       │ 0          │ 2303   │ 0               │ 5              │ 8                    │ 2                  │ 7                  │ 1        │ 600              │ 74850      │ 0.677109     │ 0.758765     │ 0.495609     │ 0.664762     │ 0.592556          │ 0.492556            │ 6                    │ 1        │ 86                      │ 0         │ 1      │ 0            │ 0       │\n",
       "│ 7     │ 7948313  │ 26    │ bi-weekly    │ 0          │ 2795   │ 0               │ 4              │ 4                    │ 1                  │ 6                  │ 1        │ 800              │ 50800      │ 0.738055     │ 0.873204     │ 0.666437     │ 0.700392     │ 0.58413           │ 0.68413             │ 14                   │ 1        │ 73                      │ 1         │ 0      │ 0            │ 0       │\n",
       "│ 8     │ 4297036  │ 43    │ bi-weekly    │ 0          │ 5000   │ 0               │ 2              │ 1                    │ 1                  │ 2                  │ 1        │ 1100             │ 69100      │ 0.798303     │ 0.841747     │ 0.401971     │ 0.568787     │ 0.525905          │ 0.725905            │ 5                    │ 1        │ 25                      │ 1         │ 0      │ 0            │ 0       │\n",
       "│ 9     │ 6493191  │ 32    │ semi-monthly │ 0          │ 5260   │ 3               │ 0              │ 3                    │ 1                  │ 4                  │ 1        │ 1150             │ 64050      │ 0.652429     │ 0.802433     │ 0.593816     │ 0.560389     │ 0.569459          │ 0.369459            │ 3                    │ 1        │ 49                      │ 0         │ 0      │ 1            │ 0       │\n",
       "│ 10    │ 8908605  │ 51    │ bi-weekly    │ 1          │ 3055   │ 0               │ 6              │ 11                   │ 4                  │ 2                  │ 1        │ 600              │ 59750      │ 0.624666     │ 0.968565     │ 0.509919     │ 0.749624     │ 0.758607          │ 0.758607            │ 5                    │ 1        │ 28                      │ 1         │ 0      │ 0            │ 0       │\n",
       "⋮\n",
       "│ 17898 │ 4078915  │ 26    │ bi-weekly    │ 1          │ 2260   │ 0               │ 3              │ 3                    │ 3                  │ 3                  │ 1        │ 600              │ 35450      │ 0.725003     │ 0.815912     │ 0.52785      │ 0.677262     │ 0.665898          │ 0.365898            │ 5                    │ 1        │ 39                      │ 1         │ 0      │ 0            │ 0       │\n",
       "│ 17899 │ 2150976  │ 39    │ bi-weekly    │ 1          │ 5215   │ 0               │ 5              │ 2                    │ 5                  │ 3                  │ 1        │ 600              │ 38200      │ 0.763789     │ 0.737341     │ 0.601577     │ 0.617802     │ 0.666175          │ 0.766175            │ 5                    │ 0        │ 41                      │ 1         │ 0      │ 0            │ 0       │\n",
       "│ 17900 │ 6799343  │ 37    │ bi-weekly    │ 0          │ 3265   │ 0               │ 4              │ 1                    │ 5                  │ 2                  │ 1        │ 1200             │ 67950      │ 0.715218     │ 0.911429     │ 0.606896     │ 0.790531     │ 0.431665          │ 0.531665            │ 2                    │ 1        │ 29                      │ 1         │ 0      │ 0            │ 0       │\n",
       "│ 17901 │ 7100872  │ 31    │ weekly       │ 0          │ 3015   │ 0               │ 2              │ 1                    │ 2                  │ 2                  │ 0        │ 450              │ 42450      │ 0.643778     │ 0.901396     │ 0.632284     │ 0.856231     │ 0.666399          │ 0.566399            │ 6                    │ 1        │ 26                      │ 0         │ 1      │ 0            │ 0       │\n",
       "│ 17902 │ 1807355  │ 44    │ bi-weekly    │ 0          │ 5025   │ 6               │ 2              │ 3                    │ 6                  │ 3                  │ 1        │ 500              │ 54500      │ 0.711895     │ 0.911418     │ 0.522509     │ 0.712864     │ 0.484913          │ 0.584913            │ 9                    │ 0        │ 42                      │ 1         │ 0      │ 0            │ 0       │\n",
       "│ 17903 │ 3983229  │ 54    │ bi-weekly    │ 0          │ 2620   │ 5               │ 2              │ 1                    │ 4                  │ 2                  │ 1        │ 600              │ 55450      │ 0.638183     │ 0.97302      │ 0.502234     │ 0.731239     │ 0.579557          │ 0.679557            │ 6                    │ 0        │ 28                      │ 1         │ 0      │ 0            │ 0       │\n",
       "│ 17904 │ 9949728  │ 31    │ monthly      │ 0          │ 3245   │ 0               │ 5              │ 3                    │ 2                  │ 6                  │ 1        │ 700              │ 71700      │ 0.691126     │ 0.928196     │ 0.664112     │ 0.838012     │ 0.727705          │ 0.627705            │ 2                    │ 0        │ 74                      │ 0         │ 0      │ 0            │ 1       │\n",
       "│ 17905 │ 9442442  │ 46    │ bi-weekly    │ 0          │ 6525   │ 0               │ 2              │ 1                    │ 3                  │ 3                  │ 1        │ 800              │ 51800      │ 0.648525     │ 0.970832     │ 0.699241     │ 0.844724     │ 0.774918          │ 0.474918            │ 3                    │ 0        │ 39                      │ 1         │ 0      │ 0            │ 0       │\n",
       "│ 17906 │ 9857590  │ 46    │ weekly       │ 0          │ 2685   │ 0               │ 5              │ 1                    │ 1                  │ 8                  │ 1        │ 1200             │ 59650      │ 0.677975     │ 0.918141     │ 0.687981     │ 0.939101     │ 0.472045          │ 0.672045            │ 9                    │ 0        │ 97                      │ 0         │ 1      │ 0            │ 0       │\n",
       "│ 17907 │ 8708471  │ 42    │ bi-weekly    │ 0          │ 2515   │ 0               │ 3              │ 5                    │ 6                  │ 1                  │ 1        │ 400              │ 80200      │ 0.642741     │ 0.885684     │ 0.456448     │ 0.686823     │ 0.406568          │ 0.406568            │ 3                    │ 1        │ 18                      │ 1         │ 0      │ 0            │ 0       │\n",
       "│ 17908 │ 1498559  │ 29    │ weekly       │ 1          │ 2665   │ 0               │ 4              │ 10                   │ 4                  │ 1                  │ 1        │ 600              │ 64950      │ 0.720889     │ 0.874372     │ 0.505565     │ 0.631619     │ 0.846163          │ 0.846163            │ 4                    │ 1        │ 16                      │ 0         │ 1      │ 0            │ 0       │"
      ]
     },
     "execution_count": 9,
     "metadata": {},
     "output_type": "execute_result"
    }
   ],
   "source": [
    "Lathe.preprocess.OneHotEncode(df, :pay_schedule)"
   ]
  },
  {
   "cell_type": "code",
   "execution_count": null,
   "metadata": {},
   "outputs": [],
   "source": []
  },
  {
   "cell_type": "code",
   "execution_count": 10,
   "metadata": {},
   "outputs": [],
   "source": [
    "select!(df, Not([:pay_schedule, :entry_id]));\n",
    "select!(df, Not([:personal_account_m, :personal_account_y,:months_employed]));"
   ]
  },
  {
   "cell_type": "code",
   "execution_count": null,
   "metadata": {},
   "outputs": [],
   "source": []
  },
  {
   "cell_type": "markdown",
   "metadata": {},
   "source": [
    "# Splitting Dataset"
   ]
  },
  {
   "cell_type": "code",
   "execution_count": 11,
   "metadata": {},
   "outputs": [
    {
     "data": {
      "text/plain": [
       "(13455×21 DataFrame\n",
       "│ Row   │ age   │ home_owner │ income │ years_employed │ current_address_year │ has_debt │ amount_requested │ risk_score │ risk_score_2 │ risk_score_3 │ risk_score_4 │ risk_score_5 │ ext_quality_score │ ext_quality_score_2 │ inquiries_last_month │ e_signed │ personal_account_months │ bi-weekly │ weekly │ semi-monthly │ monthly │\n",
       "│       │ \u001b[90mInt64\u001b[39m │ \u001b[90mInt64\u001b[39m      │ \u001b[90mInt64\u001b[39m  │ \u001b[90mInt64\u001b[39m          │ \u001b[90mInt64\u001b[39m                │ \u001b[90mInt64\u001b[39m    │ \u001b[90mInt64\u001b[39m            │ \u001b[90mInt64\u001b[39m      │ \u001b[90mFloat64\u001b[39m      │ \u001b[90mFloat64\u001b[39m      │ \u001b[90mFloat64\u001b[39m      │ \u001b[90mFloat64\u001b[39m      │ \u001b[90mFloat64\u001b[39m           │ \u001b[90mFloat64\u001b[39m             │ \u001b[90mInt64\u001b[39m                │ \u001b[90mInt64\u001b[39m    │ \u001b[90mInt64\u001b[39m                   │ \u001b[90mBool\u001b[39m      │ \u001b[90mBool\u001b[39m   │ \u001b[90mBool\u001b[39m         │ \u001b[90mBool\u001b[39m    │\n",
       "├───────┼───────┼────────────┼────────┼────────────────┼──────────────────────┼──────────┼──────────────────┼────────────┼──────────────┼──────────────┼──────────────┼──────────────┼───────────────────┼─────────────────────┼──────────────────────┼──────────┼─────────────────────────┼───────────┼────────┼──────────────┼─────────┤\n",
       "│ 1     │ 40    │ 1          │ 3135   │ 3              │ 3                    │ 1        │ 550              │ 36200      │ 0.737398     │ 0.903517     │ 0.487712     │ 0.515977     │ 0.580918          │ 0.380918            │ 10                   │ 1        │ 30                      │ 1         │ 0      │ 0            │ 0       │\n",
       "│ 2     │ 61    │ 0          │ 3180   │ 6              │ 3                    │ 1        │ 600              │ 30150      │ 0.73851      │ 0.881027     │ 0.713423     │ 0.826402     │ 0.73072           │ 0.63072             │ 9                    │ 0        │ 86                      │ 0         │ 1      │ 0            │ 0       │\n",
       "│ 3     │ 23    │ 0          │ 1540   │ 0              │ 0                    │ 1        │ 450              │ 34550      │ 0.642993     │ 0.766554     │ 0.595018     │ 0.762284     │ 0.531712          │ 0.531712            │ 7                    │ 0        │ 19                      │ 0         │ 1      │ 0            │ 0       │\n",
       "│ 4     │ 40    │ 0          │ 5230   │ 6              │ 1                    │ 1        │ 700              │ 42150      │ 0.665224     │ 0.960832     │ 0.767828     │ 0.778831     │ 0.792552          │ 0.592552            │ 8                    │ 1        │ 86                      │ 1         │ 0      │ 0            │ 0       │\n",
       "│ 5     │ 33    │ 0          │ 3590   │ 5              │ 2                    │ 1        │ 1100             │ 53850      │ 0.617361     │ 0.85756      │ 0.613487     │ 0.665523     │ 0.744634          │ 0.744634            │ 12                   │ 0        │ 98                      │ 0         │ 0      │ 1            │ 0       │\n",
       "│ 6     │ 21    │ 0          │ 2303   │ 5              │ 8                    │ 1        │ 600              │ 74850      │ 0.677109     │ 0.758765     │ 0.495609     │ 0.664762     │ 0.592556          │ 0.492556            │ 6                    │ 1        │ 86                      │ 0         │ 1      │ 0            │ 0       │\n",
       "│ 7     │ 26    │ 0          │ 2795   │ 4              │ 4                    │ 1        │ 800              │ 50800      │ 0.738055     │ 0.873204     │ 0.666437     │ 0.700392     │ 0.58413           │ 0.68413             │ 14                   │ 1        │ 73                      │ 1         │ 0      │ 0            │ 0       │\n",
       "│ 8     │ 43    │ 0          │ 5000   │ 2              │ 1                    │ 1        │ 1100             │ 69100      │ 0.798303     │ 0.841747     │ 0.401971     │ 0.568787     │ 0.525905          │ 0.725905            │ 5                    │ 1        │ 25                      │ 1         │ 0      │ 0            │ 0       │\n",
       "│ 9     │ 32    │ 0          │ 5260   │ 0              │ 3                    │ 1        │ 1150             │ 64050      │ 0.652429     │ 0.802433     │ 0.593816     │ 0.560389     │ 0.569459          │ 0.369459            │ 3                    │ 1        │ 49                      │ 0         │ 0      │ 1            │ 0       │\n",
       "│ 10    │ 51    │ 1          │ 3055   │ 6              │ 11                   │ 1        │ 600              │ 59750      │ 0.624666     │ 0.968565     │ 0.509919     │ 0.749624     │ 0.758607          │ 0.758607            │ 5                    │ 1        │ 28                      │ 1         │ 0      │ 0            │ 0       │\n",
       "⋮\n",
       "│ 13445 │ 51    │ 0          │ 2055   │ 2              │ 0                    │ 1        │ 500              │ 56800      │ 0.735554     │ 0.95861      │ 0.503029     │ 0.866972     │ 0.310552          │ 0.610552            │ 5                    │ 1        │ 99                      │ 1         │ 0      │ 0            │ 0       │\n",
       "│ 13446 │ 53    │ 1          │ 3540   │ 0              │ 2                    │ 0        │ 1200             │ 68100      │ 0.739533     │ 0.792344     │ 0.695901     │ 0.796593     │ 0.576766          │ 0.676766            │ 3                    │ 0        │ 33                      │ 1         │ 0      │ 0            │ 0       │\n",
       "│ 13447 │ 39    │ 1          │ 5215   │ 5              │ 2                    │ 1        │ 600              │ 38200      │ 0.763789     │ 0.737341     │ 0.601577     │ 0.617802     │ 0.666175          │ 0.766175            │ 5                    │ 0        │ 41                      │ 1         │ 0      │ 0            │ 0       │\n",
       "│ 13448 │ 37    │ 0          │ 3265   │ 4              │ 1                    │ 1        │ 1200             │ 67950      │ 0.715218     │ 0.911429     │ 0.606896     │ 0.790531     │ 0.431665          │ 0.531665            │ 2                    │ 1        │ 29                      │ 1         │ 0      │ 0            │ 0       │\n",
       "│ 13449 │ 31    │ 0          │ 3015   │ 2              │ 1                    │ 0        │ 450              │ 42450      │ 0.643778     │ 0.901396     │ 0.632284     │ 0.856231     │ 0.666399          │ 0.566399            │ 6                    │ 1        │ 26                      │ 0         │ 1      │ 0            │ 0       │\n",
       "│ 13450 │ 44    │ 0          │ 5025   │ 2              │ 3                    │ 1        │ 500              │ 54500      │ 0.711895     │ 0.911418     │ 0.522509     │ 0.712864     │ 0.484913          │ 0.584913            │ 9                    │ 0        │ 42                      │ 1         │ 0      │ 0            │ 0       │\n",
       "│ 13451 │ 54    │ 0          │ 2620   │ 2              │ 1                    │ 1        │ 600              │ 55450      │ 0.638183     │ 0.97302      │ 0.502234     │ 0.731239     │ 0.579557          │ 0.679557            │ 6                    │ 0        │ 28                      │ 1         │ 0      │ 0            │ 0       │\n",
       "│ 13452 │ 31    │ 0          │ 3245   │ 5              │ 3                    │ 1        │ 700              │ 71700      │ 0.691126     │ 0.928196     │ 0.664112     │ 0.838012     │ 0.727705          │ 0.627705            │ 2                    │ 0        │ 74                      │ 0         │ 0      │ 0            │ 1       │\n",
       "│ 13453 │ 46    │ 0          │ 6525   │ 2              │ 1                    │ 1        │ 800              │ 51800      │ 0.648525     │ 0.970832     │ 0.699241     │ 0.844724     │ 0.774918          │ 0.474918            │ 3                    │ 0        │ 39                      │ 1         │ 0      │ 0            │ 0       │\n",
       "│ 13454 │ 46    │ 0          │ 2685   │ 5              │ 1                    │ 1        │ 1200             │ 59650      │ 0.677975     │ 0.918141     │ 0.687981     │ 0.939101     │ 0.472045          │ 0.672045            │ 9                    │ 0        │ 97                      │ 0         │ 1      │ 0            │ 0       │\n",
       "│ 13455 │ 29    │ 1          │ 2665   │ 4              │ 10                   │ 1        │ 600              │ 64950      │ 0.720889     │ 0.874372     │ 0.505565     │ 0.631619     │ 0.846163          │ 0.846163            │ 4                    │ 1        │ 16                      │ 0         │ 1      │ 0            │ 0       │, 4453×21 DataFrame\n",
       "│ Row  │ age   │ home_owner │ income │ years_employed │ current_address_year │ has_debt │ amount_requested │ risk_score │ risk_score_2 │ risk_score_3 │ risk_score_4 │ risk_score_5 │ ext_quality_score │ ext_quality_score_2 │ inquiries_last_month │ e_signed │ personal_account_months │ bi-weekly │ weekly │ semi-monthly │ monthly │\n",
       "│      │ \u001b[90mInt64\u001b[39m │ \u001b[90mInt64\u001b[39m      │ \u001b[90mInt64\u001b[39m  │ \u001b[90mInt64\u001b[39m          │ \u001b[90mInt64\u001b[39m                │ \u001b[90mInt64\u001b[39m    │ \u001b[90mInt64\u001b[39m            │ \u001b[90mInt64\u001b[39m      │ \u001b[90mFloat64\u001b[39m      │ \u001b[90mFloat64\u001b[39m      │ \u001b[90mFloat64\u001b[39m      │ \u001b[90mFloat64\u001b[39m      │ \u001b[90mFloat64\u001b[39m           │ \u001b[90mFloat64\u001b[39m             │ \u001b[90mInt64\u001b[39m                │ \u001b[90mInt64\u001b[39m    │ \u001b[90mInt64\u001b[39m                   │ \u001b[90mBool\u001b[39m      │ \u001b[90mBool\u001b[39m   │ \u001b[90mBool\u001b[39m         │ \u001b[90mBool\u001b[39m    │\n",
       "├──────┼───────┼────────────┼────────┼────────────────┼──────────────────────┼──────────┼──────────────────┼────────────┼──────────────┼──────────────┼──────────────┼──────────────┼───────────────────┼─────────────────────┼──────────────────────┼──────────┼─────────────────────────┼───────────┼────────┼──────────────┼─────────┤\n",
       "│ 1    │ 61    │ 0          │ 6110   │ 6              │ 5                    │ 0        │ 900              │ 76350      │ 0.739293     │ 0.958588     │ 0.717289     │ 0.816048     │ 0.495346          │ 0.495346            │ 2                    │ 1        │ 50                      │ 1         │ 0      │ 0            │ 0       │\n",
       "│ 2    │ 42    │ 0          │ 4780   │ 1              │ 1                    │ 1        │ 400              │ 35400      │ 0.53907      │ 0.867716     │ 0.302845     │ 0.506525     │ 0.61838           │ 0.61838             │ 8                    │ 1        │ 42                      │ 0         │ 0      │ 1            │ 0       │\n",
       "│ 3    │ 48    │ 0          │ 3635   │ 3              │ 2                    │ 1        │ 900              │ 48350      │ 0.646338     │ 0.808179     │ 0.559529     │ 0.755586     │ 0.444159          │ 0.644159            │ 3                    │ 0        │ 50                      │ 1         │ 0      │ 0            │ 0       │\n",
       "│ 4    │ 46    │ 1          │ 3005   │ 3              │ 10                   │ 1        │ 700              │ 54100      │ 0.585051     │ 0.925997     │ 0.51917      │ 0.78236      │ 0.568509          │ 0.468509            │ 4                    │ 0        │ 61                      │ 0         │ 1      │ 0            │ 0       │\n",
       "│ 5    │ 49    │ 0          │ 1875   │ 0              │ 0                    │ 1        │ 350              │ 68200      │ 0.753667     │ 0.929251     │ 0.645728     │ 0.89608      │ 0.726708          │ 0.726708            │ 5                    │ 0        │ 39                      │ 1         │ 0      │ 0            │ 0       │\n",
       "│ 6    │ 49    │ 0          │ 2750   │ 7              │ 4                    │ 1        │ 400              │ 54950      │ 0.737646     │ 0.960799     │ 0.734664     │ 0.773503     │ 0.659954          │ 0.659954            │ 6                    │ 0        │ 86                      │ 0         │ 1      │ 0            │ 0       │\n",
       "│ 7    │ 47    │ 0          │ 3798   │ 3              │ 3                    │ 1        │ 550              │ 37050      │ 0.786014     │ 0.882127     │ 0.64392      │ 0.727698     │ 0.787157          │ 0.787157            │ 11                   │ 1        │ 66                      │ 1         │ 0      │ 0            │ 0       │\n",
       "│ 8    │ 33    │ 0          │ 2000   │ 2              │ 0                    │ 1        │ 500              │ 38300      │ 0.752766     │ 0.905863     │ 0.659037     │ 0.741448     │ 0.782007          │ 0.882007            │ 8                    │ 0        │ 38                      │ 0         │ 0      │ 1            │ 0       │\n",
       "│ 9    │ 46    │ 0          │ 4548   │ 3              │ 3                    │ 1        │ 2000             │ 72400      │ 0.598292     │ 0.900184     │ 0.617605     │ 0.753998     │ 0.591933          │ 0.391933            │ 23                   │ 1        │ 50                      │ 1         │ 0      │ 0            │ 0       │\n",
       "│ 10   │ 51    │ 1          │ 1890   │ 1              │ 4                    │ 1        │ 800              │ 90000      │ 0.707618     │ 0.953021     │ 0.808956     │ 0.950112     │ 0.71801           │ 0.91801             │ 6                    │ 0        │ 97                      │ 1         │ 0      │ 0            │ 0       │\n",
       "⋮\n",
       "│ 4443 │ 44    │ 1          │ 8145   │ 5              │ 10                   │ 1        │ 5100             │ 80850      │ 0.666673     │ 0.947376     │ 0.751581     │ 0.896817     │ 0.690225          │ 0.590225            │ 5                    │ 0        │ 88                      │ 1         │ 0      │ 0            │ 0       │\n",
       "│ 4444 │ 60    │ 0          │ 4845   │ 3              │ 8                    │ 0        │ 400              │ 86400      │ 0.816901     │ 0.960754     │ 0.621834     │ 0.758646     │ 0.620577          │ 0.620577            │ 6                    │ 0        │ 122                     │ 0         │ 0      │ 1            │ 0       │\n",
       "│ 4445 │ 19    │ 1          │ 3715   │ 0              │ 1                    │ 1        │ 500              │ 46450      │ 0.999797     │ 0.81828      │ 0.347577     │ 0.46682      │ 0.677067          │ 0.577067            │ 4                    │ 0        │ 40                      │ 1         │ 0      │ 0            │ 0       │\n",
       "│ 4446 │ 63    │ 1          │ 4095   │ 3              │ 1                    │ 1        │ 900              │ 71150      │ 0.680501     │ 0.900263     │ 0.530283     │ 0.689498     │ 0.762431          │ 0.762431            │ 8                    │ 0        │ 38                      │ 0         │ 0      │ 0            │ 1       │\n",
       "│ 4447 │ 30    │ 0          │ 2560   │ 3              │ 0                    │ 1        │ 400              │ 38500      │ 0.685638     │ 0.792501     │ 0.558232     │ 0.718937     │ 0.701888          │ 0.501888            │ 4                    │ 0        │ 40                      │ 1         │ 0      │ 0            │ 0       │\n",
       "│ 4448 │ 59    │ 0          │ 2030   │ 3              │ 4                    │ 1        │ 400              │ 76200      │ 0.569492     │ 0.865315     │ 0.36983      │ 0.601787     │ 0.630044          │ 0.630044            │ 4                    │ 1        │ 100                     │ 0         │ 0      │ 1            │ 0       │\n",
       "│ 4449 │ 31    │ 0          │ 3750   │ 6              │ 4                    │ 1        │ 700              │ 35150      │ 0.540787     │ 0.885606     │ 0.336541     │ 0.448364     │ 0.501334          │ 0.401334            │ 6                    │ 0        │ 73                      │ 1         │ 0      │ 0            │ 0       │\n",
       "│ 4450 │ 49    │ 0          │ 3090   │ 5              │ 4                    │ 1        │ 500              │ 49350      │ 0.725769     │ 0.872071     │ 0.408855     │ 0.679909     │ 0.531165          │ 0.431165            │ 4                    │ 0        │ 41                      │ 1         │ 0      │ 0            │ 0       │\n",
       "│ 4451 │ 46    │ 1          │ 6795   │ 2              │ 3                    │ 1        │ 700              │ 84000      │ 0.735877     │ 0.894483     │ 0.676719     │ 0.823337     │ 0.767268          │ 0.767268            │ 5                    │ 0        │ 16                      │ 0         │ 1      │ 0            │ 0       │\n",
       "│ 4452 │ 26    │ 1          │ 2260   │ 3              │ 3                    │ 1        │ 600              │ 35450      │ 0.725003     │ 0.815912     │ 0.52785      │ 0.677262     │ 0.665898          │ 0.365898            │ 5                    │ 1        │ 39                      │ 1         │ 0      │ 0            │ 0       │\n",
       "│ 4453 │ 42    │ 0          │ 2515   │ 3              │ 5                    │ 1        │ 400              │ 80200      │ 0.642741     │ 0.885684     │ 0.456448     │ 0.686823     │ 0.406568          │ 0.406568            │ 3                    │ 1        │ 18                      │ 1         │ 0      │ 0            │ 0       │)"
      ]
     },
     "execution_count": 11,
     "metadata": {},
     "output_type": "execute_result"
    }
   ],
   "source": [
    "train, test = TrainTestSplit(df, .75)"
   ]
  },
  {
   "cell_type": "code",
   "execution_count": null,
   "metadata": {},
   "outputs": [],
   "source": []
  },
  {
   "cell_type": "markdown",
   "metadata": {},
   "source": [
    "# Model"
   ]
  },
  {
   "cell_type": "markdown",
   "metadata": {},
   "source": [
    "## 1. Logistic Regression"
   ]
  },
  {
   "cell_type": "code",
   "execution_count": null,
   "metadata": {},
   "outputs": [],
   "source": []
  },
  {
   "cell_type": "code",
   "execution_count": 12,
   "metadata": {},
   "outputs": [
    {
     "data": {
      "text/plain": [
       "StatsModels.TableRegressionModel{GeneralizedLinearModel{GLM.GlmResp{Array{Float64,1},Binomial{Float64},ProbitLink},GLM.DensePredChol{Float64,LinearAlgebra.Cholesky{Float64,Array{Float64,2}}}},Array{Float64,2}}\n",
       "\n",
       "e_signed ~ 1 + age + home_owner + income + years_employed + current_address_year + has_debt + amount_requested + risk_score + risk_score_2 + risk_score_3 + risk_score_4 + risk_score_5 + ext_quality_score + ext_quality_score_2 + inquiries_last_month + personal_account_months + weekly + monthly\n",
       "\n",
       "Coefficients:\n",
       "────────────────────────────────────────────────────────────────────────────────────────────────\n",
       "                                Coef.   Std. Error       z  Pr(>|z|)     Lower 95%     Upper 95%\n",
       "────────────────────────────────────────────────────────────────────────────────────────────────\n",
       "(Intercept)               0.864895     0.200647       4.31    <1e-4    0.471634      1.25816\n",
       "age                      -0.0118659    0.000994109  -11.94    <1e-32  -0.0138144    -0.00991752\n",
       "home_owner               -0.135554     0.02326       -5.83    <1e-8   -0.181143     -0.089965\n",
       "income                    2.98769e-5   7.77042e-6     3.84    0.0001   1.46471e-5    4.51066e-5\n",
       "years_employed            0.0100394    0.00529893     1.89    0.0581  -0.000346362   0.0204251\n",
       "current_address_year     -0.00492665   0.00441866    -1.11    0.2649  -0.0135871     0.00373376\n",
       "has_debt                  0.107011     0.0273058      3.92    <1e-4    0.0534927     0.16053\n",
       "amount_requested          8.57099e-5   1.74254e-5     4.92    <1e-6    5.15568e-5    0.000119863\n",
       "risk_score                8.38753e-6   8.0544e-7     10.41    <1e-24   6.8089e-6     9.96617e-6\n",
       "risk_score_2             -0.0444362    0.131656      -0.34    0.7357  -0.302478      0.213605\n",
       "risk_score_3             -0.927455     0.244773      -3.79    0.0002  -1.4072       -0.447709\n",
       "risk_score_4              0.181508     0.116691       1.56    0.1198  -0.0472015     0.410217\n",
       "risk_score_5              0.0706237    0.130524       0.54    0.5885  -0.1852        0.326447\n",
       "ext_quality_score        -0.246668     0.0871669     -2.83    0.0047  -0.417512     -0.0758236\n",
       "ext_quality_score_2      -0.15302      0.087085      -1.76    0.0789  -0.323704      0.0176634\n",
       "inquiries_last_month     -0.000131098  0.00315508    -0.04    0.9669  -0.00631494    0.00605274\n",
       "personal_account_months  -0.00164117   0.00047989    -3.42    0.0006  -0.00258174   -0.000700601\n",
       "weekly                   -0.0301412    0.0293838     -1.03    0.3050  -0.0877323     0.0274499\n",
       "monthly                   0.0705277    0.0412102      1.71    0.0870  -0.0102428     0.151298\n",
       "────────────────────────────────────────────────────────────────────────────────────────────────"
      ]
     },
     "execution_count": 12,
     "metadata": {},
     "output_type": "execute_result"
    }
   ],
   "source": [
    "model = @formula(e_signed ~ age + home_owner + income + years_employed + current_address_year + has_debt + amount_requested + risk_score + risk_score_2 + risk_score_3 + risk_score_4 + risk_score_5 + ext_quality_score + ext_quality_score_2 + inquiries_last_month + personal_account_months + weekly + monthly)\n",
    "logit = glm(model, train, Binomial(), ProbitLink())"
   ]
  },
  {
   "cell_type": "code",
   "execution_count": null,
   "metadata": {},
   "outputs": [],
   "source": []
  },
  {
   "cell_type": "code",
   "execution_count": 13,
   "metadata": {},
   "outputs": [
    {
     "data": {
      "text/plain": [
       "4453-element Array{Union{Missing, Float64},1}:\n",
       " 0.5248675225914878\n",
       " 0.45919826008662173\n",
       " 0.5398098211258187\n",
       " 0.4195211713844621\n",
       " 0.49144974591466906\n",
       " 0.43905727729048205\n",
       " 0.417516584577475\n",
       " 0.4726435517711085\n",
       " 0.6438597428682804\n",
       " 0.46910347308832967\n",
       " 0.541237292464292\n",
       " 0.6790443214027692\n",
       " 0.5155805473219117\n",
       " ⋮\n",
       " 0.47697908259866767\n",
       " 0.7121279057381467\n",
       " 0.43542002005792557\n",
       " 0.5480153496535367\n",
       " 0.4571490933209923\n",
       " 0.5597176540933102\n",
       " 0.45287958179251264\n",
       " 0.5211906410196308\n",
       " 0.49458484120390744\n",
       " 0.5864190491340365\n",
       " 0.51167040569696\n",
       " 0.6368507590581028"
      ]
     },
     "execution_count": 13,
     "metadata": {},
     "output_type": "execute_result"
    }
   ],
   "source": [
    "prediction = predict(logit, test)"
   ]
  },
  {
   "cell_type": "code",
   "execution_count": null,
   "metadata": {},
   "outputs": [],
   "source": []
  },
  {
   "cell_type": "code",
   "execution_count": 14,
   "metadata": {},
   "outputs": [],
   "source": [
    "# Conveting probability score into class\n",
    "prediction_class = [if x < 0.5 0 else 1 end for x in prediction]\n",
    "\n",
    "prediction_df = DataFrame(y_actual = test.e_signed, y_predicted = prediction_class, prob_predicted = prediction);\n",
    "prediction_df.correctly_classified = prediction_df.y_actual .== prediction_df.y_predicted;"
   ]
  },
  {
   "cell_type": "code",
   "execution_count": 15,
   "metadata": {},
   "outputs": [
    {
     "data": {
      "text/plain": [
       "0.5661351897597126"
      ]
     },
     "execution_count": 15,
     "metadata": {},
     "output_type": "execute_result"
    }
   ],
   "source": [
    "# Finding the Accuracy Score\n",
    "accuracy_lr = mean(prediction_df.correctly_classified)"
   ]
  },
  {
   "cell_type": "code",
   "execution_count": null,
   "metadata": {},
   "outputs": [],
   "source": []
  },
  {
   "cell_type": "code",
   "execution_count": null,
   "metadata": {},
   "outputs": [],
   "source": []
  },
  {
   "cell_type": "code",
   "execution_count": 16,
   "metadata": {},
   "outputs": [],
   "source": [
    "Train = train;"
   ]
  },
  {
   "cell_type": "code",
   "execution_count": 17,
   "metadata": {},
   "outputs": [
    {
     "data": {
      "text/plain": [
       "(13455, 21)"
      ]
     },
     "execution_count": 17,
     "metadata": {},
     "output_type": "execute_result"
    }
   ],
   "source": [
    "size(Train)"
   ]
  },
  {
   "cell_type": "code",
   "execution_count": 18,
   "metadata": {},
   "outputs": [
    {
     "name": "stdout",
     "output_type": "stream",
     "text": [
      "Array{Int64,1}LinearAlgebra.Transpose{Float64,Array{Float64,2}}\n",
      "(16, 13455)(13455,)\n"
     ]
    }
   ],
   "source": [
    "ytrain = Train[:e_signed]\n",
    "Xtrain = Train[:, 1:14];\n",
    "Xtrain[:weekly] = Train[:weekly];     Xtrain[:monthly] = Train[:monthly];\n",
    "\n",
    "Xtrain = Matrix(Xtrain)\n",
    "Xtrain = transpose(Xtrain)\n",
    "\n",
    "println(typeof(ytrain),typeof( Xtrain))\n",
    "println(size(Xtrain), size(ytrain))"
   ]
  },
  {
   "cell_type": "code",
   "execution_count": 19,
   "metadata": {},
   "outputs": [
    {
     "data": {
      "text/plain": [
       "(4453, 21)"
      ]
     },
     "execution_count": 19,
     "metadata": {},
     "output_type": "execute_result"
    }
   ],
   "source": [
    "Test = test;\n",
    "size(Test)"
   ]
  },
  {
   "cell_type": "code",
   "execution_count": 20,
   "metadata": {},
   "outputs": [
    {
     "name": "stdout",
     "output_type": "stream",
     "text": [
      "Array{Int64,1}LinearAlgebra.Transpose{Float64,Array{Float64,2}}\n",
      "(16, 4453)(4453,)\n"
     ]
    }
   ],
   "source": [
    "ytest = Test[:e_signed]\n",
    "Xtest = Test[:, 1:14];\n",
    "Xtest[:weekly] = Test[:weekly];    Xtest[:monthly] = Test[:monthly];\n",
    "\n",
    "Xtest = Matrix(Xtest)\n",
    "Xtest = transpose(Xtest)\n",
    "\n",
    "println(typeof(ytest),typeof(Xtest))\n",
    "println(size(Xtest), size(ytest))"
   ]
  },
  {
   "cell_type": "code",
   "execution_count": null,
   "metadata": {},
   "outputs": [],
   "source": []
  },
  {
   "cell_type": "markdown",
   "metadata": {},
   "source": [
    "## 2. Support Vector Machine"
   ]
  },
  {
   "cell_type": "code",
   "execution_count": null,
   "metadata": {},
   "outputs": [],
   "source": []
  },
  {
   "cell_type": "code",
   "execution_count": 21,
   "metadata": {},
   "outputs": [
    {
     "name": "stderr",
     "output_type": "stream",
     "text": [
      "WARNING: using LIBSVM.predict in module Main conflicts with an existing identifier.\n"
     ]
    },
    {
     "data": {
      "text/plain": [
       "LIBSVM.SVM{Int64}(SVC, LIBSVM.Kernel.RadialBasis, nothing, 16, 2, [1, 0], Int32[1, 2], Float64[], Int32[], LIBSVM.SupportVectors{Int64,Float64}(13455, Int32[7192, 6263], [1, 1, 1, 1, 1, 1, 1, 1, 1, 1  …  0, 0, 0, 0, 0, 0, 0, 0, 0, 0], [40.0 40.0 … 46.0 46.0; 1.0 0.0 … 0.0 0.0; … ; 0.0 0.0 … 0.0 1.0; 0.0 0.0 … 0.0 0.0], Int32[1, 4, 6, 7, 8, 9, 10, 12, 13, 14  …  13439, 13442, 13443, 13446, 13447, 13450, 13451, 13452, 13453, 13454], LIBSVM.SVMNode[LIBSVM.SVMNode(1, 40.0), LIBSVM.SVMNode(1, 40.0), LIBSVM.SVMNode(1, 21.0), LIBSVM.SVMNode(1, 26.0), LIBSVM.SVMNode(1, 43.0), LIBSVM.SVMNode(1, 32.0), LIBSVM.SVMNode(1, 51.0), LIBSVM.SVMNode(1, 34.0), LIBSVM.SVMNode(1, 56.0), LIBSVM.SVMNode(1, 24.0)  …  LIBSVM.SVMNode(1, 56.0), LIBSVM.SVMNode(1, 25.0), LIBSVM.SVMNode(1, 44.0), LIBSVM.SVMNode(1, 53.0), LIBSVM.SVMNode(1, 39.0), LIBSVM.SVMNode(1, 44.0), LIBSVM.SVMNode(1, 54.0), LIBSVM.SVMNode(1, 31.0), LIBSVM.SVMNode(1, 46.0), LIBSVM.SVMNode(1, 46.0)]), 0.0, [0.87109375; 0.87109375; … ; -1.0; -1.0], Float64[], Float64[], [-0.12917344274542858], 3, 0.0625, 200.0, 0.001, 1.0, 0.5, 0.1, true, false)"
      ]
     },
     "execution_count": 21,
     "metadata": {},
     "output_type": "execute_result"
    }
   ],
   "source": [
    "using LIBSVM\n",
    "model = svmtrain(Array(Xtrain), Array(ytrain))"
   ]
  },
  {
   "cell_type": "code",
   "execution_count": 22,
   "metadata": {},
   "outputs": [],
   "source": [
    "y_predicted, decision_values = svmpredict(model, Xtest);"
   ]
  },
  {
   "cell_type": "code",
   "execution_count": 23,
   "metadata": {},
   "outputs": [
    {
     "data": {
      "text/plain": [
       "0.5497417471367617"
      ]
     },
     "execution_count": 23,
     "metadata": {},
     "output_type": "execute_result"
    }
   ],
   "source": [
    "accuracy_svm = mean(y_predicted .== ytest)"
   ]
  },
  {
   "cell_type": "code",
   "execution_count": 24,
   "metadata": {},
   "outputs": [
    {
     "name": "stdout",
     "output_type": "stream",
     "text": [
      "Accuracy : 0.5497417471367617\n"
     ]
    }
   ],
   "source": [
    "# SVM (Linear)\n",
    "println(\"Accuracy : \", accuracy_svm)"
   ]
  },
  {
   "cell_type": "code",
   "execution_count": null,
   "metadata": {},
   "outputs": [],
   "source": []
  },
  {
   "cell_type": "code",
   "execution_count": null,
   "metadata": {},
   "outputs": [],
   "source": []
  },
  {
   "cell_type": "code",
   "execution_count": 25,
   "metadata": {},
   "outputs": [],
   "source": [
    "Xtrain = transpose(Xtrain);\n",
    "Xtest = transpose(Xtest);"
   ]
  },
  {
   "cell_type": "markdown",
   "metadata": {},
   "source": [
    "# Random Forest Classifier"
   ]
  },
  {
   "cell_type": "code",
   "execution_count": null,
   "metadata": {},
   "outputs": [],
   "source": []
  },
  {
   "cell_type": "code",
   "execution_count": 26,
   "metadata": {},
   "outputs": [
    {
     "data": {
      "text/plain": [
       "PyObject RandomForestClassifier(max_depth=2, random_state=0)"
      ]
     },
     "execution_count": 26,
     "metadata": {},
     "output_type": "execute_result"
    }
   ],
   "source": [
    "using ScikitLearn\n",
    "using ScikitLearn.CrossValidation: cross_val_score\n",
    "\n",
    "@sk_import ensemble: RandomForestClassifier\n",
    "\n",
    "model_rf = RandomForestClassifier(max_depth=2, random_state=0)\n",
    "model_rf.fit(Xtrain, ytrain)"
   ]
  },
  {
   "cell_type": "code",
   "execution_count": null,
   "metadata": {},
   "outputs": [],
   "source": []
  },
  {
   "cell_type": "code",
   "execution_count": 27,
   "metadata": {},
   "outputs": [
    {
     "name": "stdout",
     "output_type": "stream",
     "text": [
      "Accuracy : 0.5872445542331013\n",
      "F1 Score : 0.6963990749917409\n"
     ]
    }
   ],
   "source": [
    "@sk_import metrics : accuracy_score\n",
    "@sk_import metrics : f1_score\n",
    "\n",
    "y_pred = model_rf.predict(Xtest)\n",
    "accuracy_rf = accuracy_score(ytest, y_pred)\n",
    "println(\"Accuracy : \", accuracy_score(ytest, y_pred))\n",
    "println(\"F1 Score : \", f1_score(ytest, y_pred))"
   ]
  },
  {
   "cell_type": "code",
   "execution_count": null,
   "metadata": {},
   "outputs": [],
   "source": []
  },
  {
   "cell_type": "code",
   "execution_count": 28,
   "metadata": {},
   "outputs": [
    {
     "data": {
      "text/plain": [
       "5-element Array{Float64,1}:\n",
       " 0.5538116591928252\n",
       " 0.5656565656565656\n",
       " 0.5764044943820225\n",
       " 0.5573033707865168\n",
       " 0.5685393258426966"
      ]
     },
     "execution_count": 28,
     "metadata": {},
     "output_type": "execute_result"
    }
   ],
   "source": [
    "cross_val_score(model_rf, Xtest, ytest, cv=5)"
   ]
  },
  {
   "cell_type": "code",
   "execution_count": null,
   "metadata": {},
   "outputs": [],
   "source": []
  },
  {
   "cell_type": "code",
   "execution_count": 29,
   "metadata": {},
   "outputs": [
    {
     "name": "stdout",
     "output_type": "stream",
     "text": [
      "Accuracy of Logistic Regression : 0.5661351897597126\n",
      "Accuracy of Support Vector Machine : 0.5497417471367617\n",
      "Accuracy of Random Forest : 0.5872445542331013\n"
     ]
    }
   ],
   "source": [
    "# Accuracy of Different Models\n",
    "println(\"Accuracy of Logistic Regression : \", accuracy_lr)\n",
    "println(\"Accuracy of Support Vector Machine : \", accuracy_svm)\n",
    "println(\"Accuracy of Random Forest : \", accuracy_rf)\n"
   ]
  },
  {
   "cell_type": "code",
   "execution_count": null,
   "metadata": {},
   "outputs": [],
   "source": []
  },
  {
   "cell_type": "code",
   "execution_count": null,
   "metadata": {},
   "outputs": [],
   "source": []
  },
  {
   "cell_type": "code",
   "execution_count": null,
   "metadata": {},
   "outputs": [],
   "source": []
  },
  {
   "cell_type": "code",
   "execution_count": null,
   "metadata": {},
   "outputs": [],
   "source": []
  }
 ],
 "metadata": {
  "kernelspec": {
   "display_name": "Julia 1.5.4",
   "language": "julia",
   "name": "julia-1.5"
  },
  "language_info": {
   "file_extension": ".jl",
   "mimetype": "application/julia",
   "name": "julia",
   "version": "1.5.4"
  }
 },
 "nbformat": 4,
 "nbformat_minor": 4
}
